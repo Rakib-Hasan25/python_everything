{
  "nbformat": 4,
  "nbformat_minor": 0,
  "metadata": {
    "colab": {
      "provenance": [],
      "authorship_tag": "ABX9TyNySWS/aBUEX8ppmhiHKF3K",
      "include_colab_link": true
    },
    "kernelspec": {
      "name": "python3",
      "display_name": "Python 3"
    },
    "language_info": {
      "name": "python"
    }
  },
  "cells": [
    {
      "cell_type": "markdown",
      "metadata": {
        "id": "view-in-github",
        "colab_type": "text"
      },
      "source": [
        "<a href=\"https://colab.research.google.com/github/Rakib-Hasan25/python_everything/blob/main/complete_list_in_python_.ipynb\" target=\"_parent\"><img src=\"https://colab.research.google.com/assets/colab-badge.svg\" alt=\"Open In Colab\"/></a>"
      ]
    },
    {
      "cell_type": "markdown",
      "source": [
        "# 1 .\n",
        "#**What are lists\n",
        "##### list is a data type where we can store multiple type of items , it acts like dynamic array\n",
        "\n",
        "#**array vs list\n",
        "##### array fixed size but list dynamic size\n",
        "##### any type of data can be store in list(heterogenous)\n",
        "##### speed of execution is slower in list\n",
        "##### consume memory in list\n",
        "##### list are mutable , we can edit update in list\n",
        "\n",
        "t\n",
        "\n",
        "\n",
        "\n",
        "\n",
        "\n",
        "\n",
        "\n",
        "\n",
        "\n",
        "\n",
        "\n"
      ],
      "metadata": {
        "id": "EdoOnbeoD9nf"
      }
    },
    {
      "cell_type": "markdown",
      "source": [
        "#create a list"
      ],
      "metadata": {
        "id": "AikLLAjIHNmc"
      }
    },
    {
      "cell_type": "code",
      "source": [
        "# 1D -> home\n",
        "# same type of datastored (home)\n",
        "print([1,2,3,4])\n",
        "\n",
        "\n",
        "# 2D\n",
        "print([1,2,3,[4,5]]) # hetero not same typedata\n",
        "\n",
        "# 3D\n",
        "print([[[1,3],[2.5]],[[1,2],[23]]]) # array which has multiple 2D array\n",
        "\n",
        "\n",
        "# heterogenous\n",
        "print([1,True,5.6,5+6j, \"hello\"])\n",
        "\n",
        "\n",
        "# using type conversion\n",
        "print(list('hello'))"
      ],
      "metadata": {
        "colab": {
          "base_uri": "https://localhost:8080/"
        },
        "id": "9Hc0HJklHVXe",
        "outputId": "51997c6c-6a28-4a63-8b94-9aabd637a3c0"
      },
      "execution_count": null,
      "outputs": [
        {
          "output_type": "stream",
          "name": "stdout",
          "text": [
            "[1, 2, 3, 4]\n",
            "[1, 2, 3, [4, 5]]\n",
            "[[[1, 3], [2.5]], [[1, 2], [23]]]\n",
            "[1, True, 5.6, (5+6j), 'hello']\n",
            "['h', 'e', 'l', 'l', 'o']\n"
          ]
        }
      ]
    },
    {
      "cell_type": "markdown",
      "source": [
        "#accessing item from a list\n"
      ],
      "metadata": {
        "id": "t1K_dgNzIdWd"
      }
    },
    {
      "cell_type": "code",
      "source": [
        "L=[1,2,3]\n",
        "#positive indexing\n",
        "print(L[0])\n",
        "#negitive indexing\n",
        "print(L[-3])\n",
        "\n",
        "L1 = [1,3,4,[1,2]]\n",
        "print(L1[-1][-2])\n",
        "\n",
        "\n",
        "#slicing\n",
        "\n",
        "L4=[1,2,3,5]\n",
        "\n",
        "print(L4[0:3])\n",
        "\n"
      ],
      "metadata": {
        "colab": {
          "base_uri": "https://localhost:8080/"
        },
        "id": "HKrqGeITIiIV",
        "outputId": "6cb263d5-1711-4e05-b10e-f76af8092a41"
      },
      "execution_count": null,
      "outputs": [
        {
          "output_type": "stream",
          "name": "stdout",
          "text": [
            "1\n",
            "1\n",
            "1\n",
            "[1, 2, 3]\n"
          ]
        }
      ]
    },
    {
      "cell_type": "markdown",
      "source": [
        "#Adding item to the list"
      ],
      "metadata": {
        "id": "elDqz2CMJtHW"
      }
    },
    {
      "cell_type": "code",
      "source": [
        "#append\n",
        "\n",
        "#it push item in the back side\n",
        "L = [1,2,3,5]\n",
        "L.append(True)\n",
        "print(L)\n",
        "\n",
        "L.append([1,2,5])\n",
        "print(L)"
      ],
      "metadata": {
        "colab": {
          "base_uri": "https://localhost:8080/"
        },
        "id": "yVx_FTHTJvW0",
        "outputId": "a6c98ea7-72b4-4cf0-cf8a-a7562f62f05a"
      },
      "execution_count": null,
      "outputs": [
        {
          "output_type": "stream",
          "name": "stdout",
          "text": [
            "[1, 2, 3, 5, True]\n",
            "[1, 2, 3, 5, True, [1, 2, 5]]\n"
          ]
        }
      ]
    },
    {
      "cell_type": "code",
      "source": [
        "#extend\n",
        "\n",
        "L=[1,2,3]\n",
        "L.extend([6,7,8])\n",
        "L.extend(\"rakib\")\n",
        "print(L)"
      ],
      "metadata": {
        "colab": {
          "base_uri": "https://localhost:8080/"
        },
        "id": "EUVIERQ9KQVk",
        "outputId": "a6bb93a4-034a-4ece-8af2-75161735d2b2"
      },
      "execution_count": null,
      "outputs": [
        {
          "output_type": "stream",
          "name": "stdout",
          "text": [
            "[1, 2, 3, 6, 7, 8, 'r', 'a', 'k', 'i', 'b']\n"
          ]
        }
      ]
    },
    {
      "cell_type": "code",
      "source": [
        "#insert\n",
        "L=[1,2,3]\n",
        "L.insert(1,100)# insert 100 at 1 th index\n",
        "print(L)"
      ],
      "metadata": {
        "colab": {
          "base_uri": "https://localhost:8080/"
        },
        "id": "PIrZYqUFKhvG",
        "outputId": "35e54638-b24e-470f-f947-455be97f34ee"
      },
      "execution_count": null,
      "outputs": [
        {
          "output_type": "stream",
          "name": "stdout",
          "text": [
            "[1, 100, 2, 3]\n"
          ]
        }
      ]
    },
    {
      "cell_type": "markdown",
      "source": [
        "#Editing"
      ],
      "metadata": {
        "id": "ppmLgRamLAU7"
      }
    },
    {
      "cell_type": "code",
      "source": [
        "L=[1,2,3]\n",
        "print(L)\n",
        "\n",
        "L[-1]= 500\n",
        "print(L)\n",
        "\n",
        "L[0:3]=[4,5,6]\n",
        "print(L)\n",
        "\n",
        "L[1:]=[3,4]\n",
        "print(L)\n",
        "\n",
        "L[1:3]=[1,2,3,5]\n",
        "print(L)\n"
      ],
      "metadata": {
        "colab": {
          "base_uri": "https://localhost:8080/"
        },
        "id": "4p3wuLVrLC4H",
        "outputId": "5938a4d3-bd6f-4005-9230-599c2b45376b"
      },
      "execution_count": null,
      "outputs": [
        {
          "output_type": "stream",
          "name": "stdout",
          "text": [
            "[1, 2, 3]\n",
            "[1, 2, 500]\n",
            "[4, 5, 6]\n",
            "[4, 3, 4]\n",
            "[4, 1, 2, 3, 5]\n"
          ]
        }
      ]
    },
    {
      "cell_type": "markdown",
      "source": [
        "#Deleting"
      ],
      "metadata": {
        "id": "x07KKwF-L7pc"
      }
    },
    {
      "cell_type": "code",
      "source": [
        "l=[4, 1, 2, 3, 5]\n",
        "del l[-1]\n",
        "print(l)"
      ],
      "metadata": {
        "colab": {
          "base_uri": "https://localhost:8080/"
        },
        "id": "ahxa9phPL6jV",
        "outputId": "20fe831e-f888-4b07-d2f8-4eb1baa83b33"
      },
      "execution_count": null,
      "outputs": [
        {
          "output_type": "stream",
          "name": "stdout",
          "text": [
            "[4, 1, 2, 3]\n"
          ]
        }
      ]
    },
    {
      "cell_type": "code",
      "source": [
        "l=[4, 1, 2, 3, 5]\n",
        "del l\n",
        "print(l)"
      ],
      "metadata": {
        "id": "YIvKe2DkMHMq"
      },
      "execution_count": null,
      "outputs": []
    },
    {
      "cell_type": "code",
      "source": [
        "#remove\n",
        "l=[4, 1, 2, 3, 5,5]\n",
        "l.remove(5)\n",
        "print(l)\n",
        "#delete the first match element\n",
        "\n"
      ],
      "metadata": {
        "colab": {
          "base_uri": "https://localhost:8080/"
        },
        "id": "liB2hId9MQKJ",
        "outputId": "0555decd-9e04-43ab-ba85-186989c8f0e4"
      },
      "execution_count": null,
      "outputs": [
        {
          "output_type": "stream",
          "name": "stdout",
          "text": [
            "[4, 1, 2, 3, 5]\n"
          ]
        }
      ]
    },
    {
      "cell_type": "code",
      "source": [
        "#pop\n",
        "l=[4, 1, 2, 3, 5,5]\n",
        "l.pop(0) # delete using index\n",
        "print(l)"
      ],
      "metadata": {
        "colab": {
          "base_uri": "https://localhost:8080/"
        },
        "id": "rlNFoHmrMkwr",
        "outputId": "f1cb8d44-e043-41ad-da16-f8272a56b5f2"
      },
      "execution_count": null,
      "outputs": [
        {
          "output_type": "stream",
          "name": "stdout",
          "text": [
            "[1, 2, 3, 5, 5]\n"
          ]
        }
      ]
    },
    {
      "cell_type": "code",
      "source": [
        "#clear\n",
        "l=[4, 1, 2, 3, 5,5]\n",
        "l.clear()\n",
        "print(l)"
      ],
      "metadata": {
        "colab": {
          "base_uri": "https://localhost:8080/"
        },
        "id": "5bx07vCmMyMC",
        "outputId": "593fb75f-f0c5-49c7-85ed-e5153c13b7d9"
      },
      "execution_count": null,
      "outputs": [
        {
          "output_type": "stream",
          "name": "stdout",
          "text": [
            "[]\n"
          ]
        }
      ]
    },
    {
      "cell_type": "markdown",
      "source": [
        "#Operation in list\n"
      ],
      "metadata": {
        "id": "Ig2w6-A_NB70"
      }
    },
    {
      "cell_type": "code",
      "source": [
        "#arithmatic (+,*)\n",
        "\n",
        "L=[1,2,3]\n",
        "l2=[3,4,5]\n",
        "print(L+L1)\n",
        "print(L*3)\n"
      ],
      "metadata": {
        "colab": {
          "base_uri": "https://localhost:8080/"
        },
        "id": "j-ZC7l7INF1J",
        "outputId": "b5045408-91d5-4c11-b0e8-1b851661e836"
      },
      "execution_count": null,
      "outputs": [
        {
          "output_type": "stream",
          "name": "stdout",
          "text": [
            "[1, 2, 3, 1, 3, 4, [1, 2]]\n",
            "[1, 2, 3, 1, 2, 3, 1, 2, 3]\n"
          ]
        }
      ]
    },
    {
      "cell_type": "code",
      "source": [
        "#membership\n",
        "L=[1,2,3]\n",
        "print(1 in L)\n"
      ],
      "metadata": {
        "colab": {
          "base_uri": "https://localhost:8080/"
        },
        "id": "6J5pWZbyNZYP",
        "outputId": "013b4607-5a58-49b3-d3ec-1e76564fcf71"
      },
      "execution_count": null,
      "outputs": [
        {
          "output_type": "stream",
          "name": "stdout",
          "text": [
            "True\n"
          ]
        }
      ]
    },
    {
      "cell_type": "code",
      "source": [
        "#loops\n",
        "\n",
        "L=[1,2,3]\n",
        "for i in L:\n",
        "  print(i)\n",
        "\n",
        "print()\n",
        "\n",
        "for i in range(0,len(L)):\n",
        "  print(L[i])"
      ],
      "metadata": {
        "colab": {
          "base_uri": "https://localhost:8080/"
        },
        "id": "yNKW93QTNnh-",
        "outputId": "78c5841d-b1c2-4f83-8ab6-dae8b11f5f36"
      },
      "execution_count": null,
      "outputs": [
        {
          "output_type": "stream",
          "name": "stdout",
          "text": [
            "1\n",
            "2\n",
            "3\n",
            "\n",
            "1\n",
            "2\n",
            "3\n"
          ]
        }
      ]
    },
    {
      "cell_type": "code",
      "source": [
        "# functions\n",
        "#len/min/max/sorted\n",
        "\n",
        "\n",
        "L=[1,2,3]\n",
        "print(sorted(L,reverse=True))\n",
        "\n",
        "\n"
      ],
      "metadata": {
        "colab": {
          "base_uri": "https://localhost:8080/"
        },
        "id": "8Dwn0apHOCcJ",
        "outputId": "4f172ccb-6c4e-48a7-fdba-b7bd6d69cdfa"
      },
      "execution_count": null,
      "outputs": [
        {
          "output_type": "stream",
          "name": "stdout",
          "text": [
            "[3, 2, 1]\n"
          ]
        }
      ]
    },
    {
      "cell_type": "code",
      "source": [
        "#count\n",
        "\n",
        "L=[1,2,3]\n",
        "print(L.count(5))"
      ],
      "metadata": {
        "colab": {
          "base_uri": "https://localhost:8080/"
        },
        "id": "QkRbdbg4OZwX",
        "outputId": "7adce17d-386d-4a63-ac24-b90a75b1235c"
      },
      "execution_count": null,
      "outputs": [
        {
          "output_type": "stream",
          "name": "stdout",
          "text": [
            "0\n"
          ]
        }
      ]
    },
    {
      "cell_type": "code",
      "source": [
        "#index\n",
        "\n",
        "L=[1,2,3]\n",
        "print(L.index(1))"
      ],
      "metadata": {
        "colab": {
          "base_uri": "https://localhost:8080/"
        },
        "id": "P0CU1QMYOlNw",
        "outputId": "2845fcc6-e275-4f1b-c4a2-51e3d182f699"
      },
      "execution_count": null,
      "outputs": [
        {
          "output_type": "stream",
          "name": "stdout",
          "text": [
            "0\n"
          ]
        }
      ]
    },
    {
      "cell_type": "code",
      "source": [
        "#reverse\n",
        "L = [1,2,4]\n",
        "# permanently reverse the list\n",
        "\n",
        "L.reverse()\n",
        "print(L)"
      ],
      "metadata": {
        "colab": {
          "base_uri": "https://localhost:8080/"
        },
        "id": "-MIYcy9HOo9S",
        "outputId": "f6f74163-df77-47fa-8b3f-ee3ac2a65cd9"
      },
      "execution_count": null,
      "outputs": [
        {
          "output_type": "stream",
          "name": "stdout",
          "text": [
            "[4, 2, 1]\n"
          ]
        }
      ]
    },
    {
      "cell_type": "code",
      "source": [
        "#sort vs sorted\n",
        "\n",
        "L=[2,55,6,73,7]\n",
        "print(L)\n",
        "L.sort() # it sort in the existing list\n",
        "print(L)\n"
      ],
      "metadata": {
        "colab": {
          "base_uri": "https://localhost:8080/"
        },
        "id": "C2eH3e9vPF2Z",
        "outputId": "74a95d96-de8f-41fe-bb4a-f1798db10775"
      },
      "execution_count": null,
      "outputs": [
        {
          "output_type": "stream",
          "name": "stdout",
          "text": [
            "[2, 55, 6, 73, 7]\n",
            "[2, 6, 7, 55, 73]\n"
          ]
        }
      ]
    },
    {
      "cell_type": "code",
      "source": [
        "#important thing to note\n",
        "\n",
        "\n",
        "L = [1,3,5]\n",
        "L1=L\n",
        "print(L1)\n",
        "L[0]= 7\n",
        "print(L1)\n",
        "#here we don't change in L1 but it change , because , L and L1 are same and share same memorey\n",
        "\n",
        "\n"
      ],
      "metadata": {
        "colab": {
          "base_uri": "https://localhost:8080/"
        },
        "id": "rLeocg0mPvI9",
        "outputId": "8b35b55c-3b2a-400c-b190-d78699612fc7"
      },
      "execution_count": null,
      "outputs": [
        {
          "output_type": "stream",
          "name": "stdout",
          "text": [
            "[1, 3, 5]\n",
            "[7, 3, 5]\n"
          ]
        }
      ]
    },
    {
      "cell_type": "code",
      "source": [
        "#solution\n",
        "L = [1,3,5]\n",
        "L1=L.copy()\n",
        "\n",
        "#here L1 and L don't share same memore location\n",
        "\n",
        "#prove\n",
        "\n",
        "print(id(L))\n",
        "print(id(L1))\n",
        "#memory address different\n",
        "\n"
      ],
      "metadata": {
        "colab": {
          "base_uri": "https://localhost:8080/"
        },
        "id": "OSHzWAjVQOHv",
        "outputId": "5a29e50b-8d69-4a38-8c80-a49ebb82b6a1"
      },
      "execution_count": null,
      "outputs": [
        {
          "output_type": "stream",
          "name": "stdout",
          "text": [
            "134601595722880\n",
            "134601595727744\n"
          ]
        }
      ]
    },
    {
      "cell_type": "code",
      "source": [
        "##ordered\n",
        "L = [1,2,3]\n",
        "L1= [3,2,1]\n",
        "\n",
        "L==L1\n",
        "\n",
        "# here L and L1 are not same , although they have same element but order is different"
      ],
      "metadata": {
        "colab": {
          "base_uri": "https://localhost:8080/"
        },
        "id": "yWYJWGqKEarL",
        "outputId": "4e2159ee-3833-429f-9a7d-7bf774c16ffb"
      },
      "execution_count": null,
      "outputs": [
        {
          "output_type": "execute_result",
          "data": {
            "text/plain": [
              "False"
            ]
          },
          "metadata": {},
          "execution_count": 1
        }
      ]
    },
    {
      "cell_type": "markdown",
      "source": [
        "#List Comprehension\n",
        "####more time and space effiecient than loops\n"
      ],
      "metadata": {
        "id": "FOLTYRUzRCb-"
      }
    },
    {
      "cell_type": "code",
      "source": [
        "# push  1 to 10 element in list\n",
        "\n",
        "L = [ i for i in range(1,11)] # check from right side\n",
        "print(L)"
      ],
      "metadata": {
        "colab": {
          "base_uri": "https://localhost:8080/"
        },
        "id": "leY-LqTdRAmX",
        "outputId": "d01bee12-7aa2-4dad-ceec-ed189b635278"
      },
      "execution_count": null,
      "outputs": [
        {
          "output_type": "stream",
          "name": "stdout",
          "text": [
            "[1, 2, 3, 4, 5, 6, 7, 8, 9, 10]\n"
          ]
        }
      ]
    },
    {
      "cell_type": "code",
      "source": [
        "v=[2,4,5]\n",
        "\n",
        "# make all list element neg\n",
        "\n",
        "# [i*-1 for i in v]\n",
        "\n",
        "v=[v[i]*-1 for i in range(0,len(v)) ]\n",
        "print(v)\n",
        "\n"
      ],
      "metadata": {
        "colab": {
          "base_uri": "https://localhost:8080/"
        },
        "id": "ssTa4EL-HTW9",
        "outputId": "05382323-0a0f-48bb-f5fa-9053c9388744"
      },
      "execution_count": null,
      "outputs": [
        {
          "output_type": "stream",
          "name": "stdout",
          "text": [
            "[-2, -4, -5]\n"
          ]
        }
      ]
    },
    {
      "cell_type": "code",
      "source": [
        "# add all number which are divisible by 5 from range 1 to 5\n",
        "\n",
        "L= [i for i in range(1,51) if i%5 == 0  ]\n",
        "print(L)\n",
        "\n"
      ],
      "metadata": {
        "colab": {
          "base_uri": "https://localhost:8080/"
        },
        "id": "hoNME5PMG7B3",
        "outputId": "d19f7270-1ae8-471e-f524-0933a19a7653"
      },
      "execution_count": null,
      "outputs": [
        {
          "output_type": "stream",
          "name": "stdout",
          "text": [
            "[5, 10, 15, 20, 25, 30, 35, 40, 45, 50]\n"
          ]
        }
      ]
    },
    {
      "cell_type": "code",
      "source": [
        "L=[[1,2,3],[4,5,6],[7,8,9]]\n",
        "\n",
        "L1= [L[i][j] for j in range(0,3) for i in range(0,3)]\n",
        "print(L1)\n",
        "\n"
      ],
      "metadata": {
        "colab": {
          "base_uri": "https://localhost:8080/"
        },
        "id": "jxb8eE3uTuKV",
        "outputId": "fe1ca0ea-05fc-4823-8aac-7b0637068968"
      },
      "execution_count": null,
      "outputs": [
        {
          "output_type": "stream",
          "name": "stdout",
          "text": [
            "[1, 4, 7, 2, 5, 8, 3, 6, 9]\n"
          ]
        }
      ]
    },
    {
      "cell_type": "markdown",
      "source": [
        "#Zip"
      ],
      "metadata": {
        "id": "l5-oCNiHzN0o"
      }
    },
    {
      "cell_type": "code",
      "source": [
        "#write a program to add items of 2 lists index wise\n",
        "L1 =[1,2,3,4]\n",
        "L2= [-1,-2,-3,-4]\n",
        "\n",
        "\n",
        "list(zip(L1,L2))"
      ],
      "metadata": {
        "colab": {
          "base_uri": "https://localhost:8080/"
        },
        "id": "72nfv1XEzU4Q",
        "outputId": "3a3fd471-ca09-4553-b09e-63f442e914ed"
      },
      "execution_count": 1,
      "outputs": [
        {
          "output_type": "execute_result",
          "data": {
            "text/plain": [
              "[(1, -1), (2, -2), (3, -3), (4, -4)]"
            ]
          },
          "metadata": {},
          "execution_count": 1
        }
      ]
    },
    {
      "cell_type": "markdown",
      "source": [
        "#Disadvantages in list\n",
        "### slow\n",
        "###Risky usage\n",
        "### eats up more memory\n",
        "\n",
        "\n"
      ],
      "metadata": {
        "id": "CTNZE1210EHP"
      }
    },
    {
      "cell_type": "code",
      "source": [
        "#slow\n",
        "# 1 reason\n",
        "\n",
        "#Dynamic typing in Python means that variables can hold values of any data type,\n",
        "# and the type of a variable can change during the execution of the program.\n",
        "# This flexibility requires additional checks and operations to determine and\n",
        "# handle the data type of each variable, which can slow down the execution of code involving operations on variables,"
      ],
      "metadata": {
        "id": "mgr32Jh70dJg"
      },
      "execution_count": null,
      "outputs": []
    },
    {
      "cell_type": "code",
      "source": [
        "#Risky usage\n",
        "#explain in .copy() function\n"
      ],
      "metadata": {
        "id": "wh1tTEH51iyC"
      },
      "execution_count": null,
      "outputs": []
    },
    {
      "cell_type": "code",
      "source": [
        "#eates up more memory\n",
        "# Dynamic typing in Python can consume more memory because Python needs to\n",
        "#store additional information about each variable, including its data type, size, and other metadata."
      ],
      "metadata": {
        "id": "ek6nhQHq17Tk"
      },
      "execution_count": null,
      "outputs": []
    }
  ]
}