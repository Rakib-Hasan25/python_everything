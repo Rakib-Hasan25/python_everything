{
  "nbformat": 4,
  "nbformat_minor": 0,
  "metadata": {
    "colab": {
      "provenance": [],
      "authorship_tag": "ABX9TyMGy1iAiINeywnUxmm1DgB8",
      "include_colab_link": true
    },
    "kernelspec": {
      "name": "python3",
      "display_name": "Python 3"
    },
    "language_info": {
      "name": "python"
    }
  },
  "cells": [
    {
      "cell_type": "markdown",
      "metadata": {
        "id": "view-in-github",
        "colab_type": "text"
      },
      "source": [
        "<a href=\"https://colab.research.google.com/github/Rakib-Hasan25/python_everything/blob/main/tuple_sets_dictionary_.ipynb\" target=\"_parent\"><img src=\"https://colab.research.google.com/assets/colab-badge.svg\" alt=\"Open In Colab\"/></a>"
      ]
    },
    {
      "cell_type": "markdown",
      "source": [
        "#Tuples\n",
        "\n",
        "A tuple is similar to a list . but we can't edit or delete its value when after its creation\n",
        "\n",
        "In short , tuple is an immutable\n",
        "\n",
        "Character"
      ],
      "metadata": {
        "id": "bGjFRIYw2xOQ"
      }
    },
    {
      "cell_type": "markdown",
      "source": [
        "#creationg a tuple"
      ],
      "metadata": {
        "id": "ksS8V0Oz3URh"
      }
    },
    {
      "cell_type": "code",
      "source": [
        "#empty\n",
        "t1 =()\n",
        "\n",
        "t2 = ('hello')# when their is only one item , it thinks that it is a string\n",
        "\n",
        "print(t2)\n",
        "\n",
        "\n",
        "# so approach\n",
        "t3=('hello',) # a comma in last , then it thinks it is a tuple\n",
        "\n",
        "\n",
        "#hetro --> when item are different\n",
        "t4 = (1,2,3,true,[1,2,3],(1,3,4))\n",
        "\n"
      ],
      "metadata": {
        "id": "RaBiQM553S47"
      },
      "execution_count": null,
      "outputs": []
    },
    {
      "cell_type": "markdown",
      "source": [
        "#indexing and slicing"
      ],
      "metadata": {
        "id": "kLWjUfQn4SwU"
      }
    },
    {
      "cell_type": "code",
      "source": [
        "t3=('hello',)\n",
        "print(t3[0])\n",
        "\n",
        "print(t3[0:])\n"
      ],
      "metadata": {
        "colab": {
          "base_uri": "https://localhost:8080/"
        },
        "id": "PIlJCFpR4XgT",
        "outputId": "eb61cf1b-bb0c-40c9-8398-26e6c21f4e79"
      },
      "execution_count": 1,
      "outputs": [
        {
          "output_type": "stream",
          "name": "stdout",
          "text": [
            "hello\n"
          ]
        }
      ]
    },
    {
      "cell_type": "markdown",
      "source": [
        "#editing and deleting"
      ],
      "metadata": {
        "id": "5edXCqNv5IkH"
      }
    },
    {
      "cell_type": "code",
      "source": [
        "#Editing items\n",
        "\n",
        "#not possible\n",
        "\n",
        "#t3[0]=10 give error\n",
        "\n",
        "\n",
        "# del t3   not error\n",
        "\n",
        "# del t3[0] give error"
      ],
      "metadata": {
        "id": "d06utviz4tkq"
      },
      "execution_count": null,
      "outputs": []
    },
    {
      "cell_type": "markdown",
      "source": [
        "#operation\n",
        "\n",
        "\n"
      ],
      "metadata": {
        "id": "xUlwSOWE5flR"
      }
    },
    {
      "cell_type": "code",
      "source": [
        "##+ and *\n",
        "t1 =(1,2,3)\n",
        "t2 = (1,2,4)\n",
        "\n",
        "print(t1+t2)\n",
        "\n",
        "#membership\n",
        "print(1 in t1)\n",
        "\n",
        "#iteration\n",
        "for i in t1 :\n",
        "  print(i)"
      ],
      "metadata": {
        "colab": {
          "base_uri": "https://localhost:8080/"
        },
        "id": "uhVNMdMg5eUp",
        "outputId": "4c68c16f-42c2-457d-feae-e74b3d602c1d"
      },
      "execution_count": 2,
      "outputs": [
        {
          "output_type": "stream",
          "name": "stdout",
          "text": [
            "(1, 2, 3, 1, 2, 4)\n",
            "True\n",
            "1\n",
            "2\n",
            "3\n"
          ]
        }
      ]
    },
    {
      "cell_type": "code",
      "source": [
        "#function\n",
        "#len/sum/min/sorted\n",
        "# count , index"
      ],
      "metadata": {
        "id": "J2B9M71w6O9J"
      },
      "execution_count": null,
      "outputs": []
    },
    {
      "cell_type": "markdown",
      "source": [
        "#Difference form list and Tuple\n",
        "\n",
        "\n",
        "fast -because immutable\n",
        "memory - beacause immutable"
      ],
      "metadata": {
        "id": "MkLKwoXR6eAR"
      }
    },
    {
      "cell_type": "code",
      "source": [
        "import time\n",
        "L= list (range(10000000))\n",
        "T=  tuple (range(10000000))\n",
        "\n",
        "start  = time.time()\n",
        "\n",
        "for  i in L:\n",
        "  i*5\n",
        "\n",
        "print(\"List time\", time.time()-start)\n",
        "\n",
        "\n",
        "start  = time.time()\n",
        "\n",
        "for  i in T:\n",
        "  i*5\n",
        "\n",
        "print(\"List time\", time.time()-start)\n",
        "\n"
      ],
      "metadata": {
        "colab": {
          "base_uri": "https://localhost:8080/"
        },
        "id": "BHGU_XDp60_k",
        "outputId": "e7ba2a0e-6c59-4a61-be6c-29d3d81c9d55"
      },
      "execution_count": 3,
      "outputs": [
        {
          "output_type": "stream",
          "name": "stdout",
          "text": [
            "List time 0.8742797374725342\n",
            "List time 0.8481009006500244\n"
          ]
        }
      ]
    },
    {
      "cell_type": "code",
      "source": [
        "a = (1,2,3)\n",
        "b = a\n",
        "a = a + (4,)\n",
        "\n",
        "\n",
        "print(a)\n",
        "print(b)\n",
        "# for immutable they don't share same location\n"
      ],
      "metadata": {
        "colab": {
          "base_uri": "https://localhost:8080/"
        },
        "id": "TiA41xsR7aWC",
        "outputId": "308014c9-ef03-4332-d28d-5754cd648c2f"
      },
      "execution_count": 4,
      "outputs": [
        {
          "output_type": "stream",
          "name": "stdout",
          "text": [
            "(1, 2, 3, 4)\n",
            "(1, 2, 3)\n"
          ]
        }
      ]
    },
    {
      "cell_type": "code",
      "source": [
        "#swapping\n",
        "a = 1\n",
        "b = 2\n",
        "\n",
        "a,b = b,a\n",
        "\n",
        "print(a,b)"
      ],
      "metadata": {
        "colab": {
          "base_uri": "https://localhost:8080/"
        },
        "id": "1GaxNxSF7x0K",
        "outputId": "16f33ace-3488-4292-a3c6-b6fb045a39d0"
      },
      "execution_count": 5,
      "outputs": [
        {
          "output_type": "stream",
          "name": "stdout",
          "text": [
            "2 1\n"
          ]
        }
      ]
    },
    {
      "cell_type": "code",
      "source": [
        "\n",
        "#a,b=(1,2,3,4) give error\n",
        "\n",
        "#solution\n",
        "\n",
        "a,b,*others = (1,2,3,4,6)\n",
        "\n",
        "print(a,b,others)"
      ],
      "metadata": {
        "colab": {
          "base_uri": "https://localhost:8080/"
        },
        "id": "sjYWaTCT75r9",
        "outputId": "116697d9-e12a-4ad5-f087-555c144a3b6e"
      },
      "execution_count": 6,
      "outputs": [
        {
          "output_type": "stream",
          "name": "stdout",
          "text": [
            "1 2 [3, 4, 6]\n"
          ]
        }
      ]
    },
    {
      "cell_type": "code",
      "source": [
        "#zipping\n",
        "a = (1,2,3)\n",
        "b = (2,4,5)\n",
        "\n",
        "list ( zip (a,b))\n",
        "\n",
        "\n"
      ],
      "metadata": {
        "colab": {
          "base_uri": "https://localhost:8080/"
        },
        "id": "nSrz8xR98PTw",
        "outputId": "99b02827-dbf8-4f50-8f9c-7215cc830c0a"
      },
      "execution_count": 7,
      "outputs": [
        {
          "output_type": "execute_result",
          "data": {
            "text/plain": [
              "[(1, 2), (2, 4), (3, 5)]"
            ]
          },
          "metadata": {},
          "execution_count": 7
        }
      ]
    },
    {
      "cell_type": "markdown",
      "source": [
        "#**Sets**\n",
        "\n",
        "\n",
        "\n",
        "###A set is an unordered collection of items\n",
        "###every set element is unique ( no duplicate )\n",
        "###sets are mutable(can be edit or delete)\n",
        "###also used to perform mathmatical operation like union , intersection , symmetric\n",
        "### can't contain mutable data types\n",
        "\n",
        "\n",
        "\n",
        "\n",
        "\n"
      ],
      "metadata": {
        "id": "ag0vfVkF8fq-"
      }
    },
    {
      "cell_type": "code",
      "source": [],
      "metadata": {
        "id": "ezCyX4II9W4F"
      },
      "execution_count": null,
      "outputs": []
    },
    {
      "cell_type": "markdown",
      "source": [
        "#creating sets\n"
      ],
      "metadata": {
        "id": "Aa6hueH09X02"
      }
    },
    {
      "cell_type": "code",
      "source": [
        "\n",
        "# empty\n",
        "s = { }\n",
        "print(type(s))# it is dictionary\n",
        "\n",
        "# for this to create empty\n",
        "s = set()\n",
        "\n",
        "\n",
        "#1D\n",
        "s1= { 1,2,3}\n",
        "\n",
        "#2D\n",
        "\n",
        "#S2 = { 1,3,4 , { 1,2,3}}\n",
        "\n",
        "# give error reason set it self a mutable type and it can't not store mutable types\n",
        "\n",
        "\n",
        "\n",
        "s3 = {1, 'hello', 4.5, True}\n",
        "\n",
        "\n",
        "# duplicate not allowed\n",
        "\n",
        "\n",
        "s5 = {1,1,3,4}\n",
        "\n",
        "# convert to set\n",
        "\n",
        "\n",
        "s5 = set([1,2,4])\n",
        "\n"
      ],
      "metadata": {
        "id": "kd-MHEqN9a6N"
      },
      "execution_count": null,
      "outputs": []
    },
    {
      "cell_type": "code",
      "source": [
        "# sets are unordered\n",
        "\n",
        "\n",
        "s1 = {1,2,4}\n",
        "s2={4,2,1}\n",
        "print(s1==s2) # true\n",
        "\n",
        "\n",
        "\n",
        "# but for list it give false , because it is odered\n",
        "\n",
        "\n",
        "\n"
      ],
      "metadata": {
        "id": "FseOWuNJ-bMb"
      },
      "execution_count": null,
      "outputs": []
    },
    {
      "cell_type": "markdown",
      "source": [
        "#adding items\n",
        "\n",
        "\n",
        "\n"
      ],
      "metadata": {
        "id": "AnOENfEI_NOg"
      }
    },
    {
      "cell_type": "code",
      "source": [
        "s = {1,2,2,3}\n",
        "s.add(5)\n",
        "\n",
        "s.update([5,6,7])\n",
        "\n",
        "\n",
        "\n",
        "\n"
      ],
      "metadata": {
        "id": "cw95c0fG_qz4"
      },
      "execution_count": null,
      "outputs": []
    },
    {
      "cell_type": "code",
      "source": [],
      "metadata": {
        "id": "jqvR63XZAR3F"
      },
      "execution_count": null,
      "outputs": []
    },
    {
      "cell_type": "markdown",
      "source": [
        "#editing current item\n",
        "\n"
      ],
      "metadata": {
        "id": "glhKI-mWASe-"
      }
    },
    {
      "cell_type": "code",
      "source": [
        "#The mutability of sets refers to their ability to change their contents (i.e., add or remove elements), not to modify individual elements within the set.\n",
        "#  This design choice is primarily because sets are unordered collections of unique elements\n",
        "#  , and indexing doesn't make sense in the context of unordered collections.\n",
        "\n",
        "# so ,\n",
        "s = {1,2,2,3}\n",
        "s[0]=100 # not possible"
      ],
      "metadata": {
        "id": "-2JKTisjAVWy"
      },
      "execution_count": null,
      "outputs": []
    },
    {
      "cell_type": "code",
      "source": [
        "# delete"
      ],
      "metadata": {
        "id": "IoE02KhmAmRI"
      },
      "execution_count": null,
      "outputs": []
    },
    {
      "cell_type": "code",
      "source": [
        "# del\n",
        "\n",
        "\n",
        "s = {1,2,3}\n",
        "del s\n",
        "\n",
        "\n",
        "# discard\n",
        "\n",
        "print(s.discard(50))\n",
        "# won't give any error if no item avail here\n",
        "\n",
        "\n",
        "#remove\n",
        "\n",
        "s.remove(50)\n",
        "# give error if item not avail\n",
        "\n",
        "# pop\n",
        "\n",
        "s.pop()\n",
        "# remove a random element\n",
        "\n",
        "\n",
        "\n",
        "# clear\n",
        "s.clear() # delete all element and return and empty set\n",
        "\n",
        "\n"
      ],
      "metadata": {
        "colab": {
          "base_uri": "https://localhost:8080/"
        },
        "id": "Wg_Gs8ziApC2",
        "outputId": "6114c489-50f3-4d5b-b279-08bad2962f59"
      },
      "execution_count": 8,
      "outputs": [
        {
          "output_type": "stream",
          "name": "stdout",
          "text": [
            "None\n"
          ]
        }
      ]
    },
    {
      "cell_type": "markdown",
      "source": [
        "#Operation"
      ],
      "metadata": {
        "id": "TbCM1awSBm5v"
      }
    },
    {
      "cell_type": "code",
      "source": [
        "S1 = {1,2,3,4,5}\n",
        "S2 = {4,5 ,6, 7,8}\n",
        "\n",
        "\n",
        "#union (|)\n",
        "\n",
        "# intersection (&)\n",
        "\n",
        "\n",
        "# difference (-)\n",
        "\n",
        "#symmetric differnce ( ^ )\n",
        "print(\"symmtice difference\",S1 ^ S2)\n",
        "\n",
        "\n",
        "#membeship\n",
        "1 not in S1\n",
        "# iteration\n",
        "\n",
        "for i in S1:\n",
        "  print(i)\n"
      ],
      "metadata": {
        "colab": {
          "base_uri": "https://localhost:8080/"
        },
        "id": "XSzqChq-BpS8",
        "outputId": "e231aa79-077f-4ae3-d53d-d6c9f7abc209"
      },
      "execution_count": 10,
      "outputs": [
        {
          "output_type": "stream",
          "name": "stdout",
          "text": [
            "symmtice difference {1, 2, 3, 6, 7, 8}\n",
            "1\n",
            "2\n",
            "3\n",
            "4\n",
            "5\n"
          ]
        }
      ]
    },
    {
      "cell_type": "code",
      "source": [
        "# union / update\n",
        "S1 = {1,2,3,4,5}\n",
        "S2 = {4,5 ,6, 7,8}\n",
        "S1.union(S2)\n",
        "print(S1)\n",
        "\n",
        "\n",
        "S1.update(S2)\n",
        "print(S1)"
      ],
      "metadata": {
        "colab": {
          "base_uri": "https://localhost:8080/"
        },
        "id": "vhGg0dcnC6Vh",
        "outputId": "ab1c4984-9e6a-49d4-d05f-3bcec8ed43d2"
      },
      "execution_count": 13,
      "outputs": [
        {
          "output_type": "stream",
          "name": "stdout",
          "text": [
            "{1, 2, 3, 4, 5}\n",
            "{1, 2, 3, 4, 5, 6, 7, 8}\n"
          ]
        }
      ]
    },
    {
      "cell_type": "code",
      "source": [
        "\n",
        "#intersection / intersection differnce\n",
        "S1 = {1,2,3,4,5}\n",
        "S2 = {4,5 ,6, 7,8}\n",
        "\n",
        "S1.intersection(S2)\n",
        "print(S1)\n",
        "\n",
        "S1.intersection_update(S2)\n",
        "\n",
        "print(S1)"
      ],
      "metadata": {
        "colab": {
          "base_uri": "https://localhost:8080/"
        },
        "id": "mG15Kd3_DnJg",
        "outputId": "7ee6583a-0277-47be-80b2-2b24c57a7a35"
      },
      "execution_count": 14,
      "outputs": [
        {
          "output_type": "stream",
          "name": "stdout",
          "text": [
            "{1, 2, 3, 4, 5}\n",
            "{4, 5}\n"
          ]
        }
      ]
    },
    {
      "cell_type": "code",
      "source": [
        "#isdisjoint/issubset/issuperset\n",
        "\n",
        "S1 = {1,2,3,4,5}\n",
        "S2 = {4,5 ,6, 7,8}\n",
        "\n",
        "S1.isdisjoint(S2)\n",
        "\n"
      ],
      "metadata": {
        "colab": {
          "base_uri": "https://localhost:8080/"
        },
        "id": "h9rPd5qjEO4_",
        "outputId": "3a64dbab-9096-4f93-ad01-2e8f28a07a4e"
      },
      "execution_count": 15,
      "outputs": [
        {
          "output_type": "execute_result",
          "data": {
            "text/plain": [
              "False"
            ]
          },
          "metadata": {},
          "execution_count": 15
        }
      ]
    },
    {
      "cell_type": "code",
      "source": [],
      "metadata": {
        "id": "5Cs0YNcCEoxQ"
      },
      "execution_count": null,
      "outputs": []
    },
    {
      "cell_type": "markdown",
      "source": [
        "#Frozenset\n",
        "\n",
        "it is just an immutable verision  of sets"
      ],
      "metadata": {
        "id": "B60Vov6LEqBB"
      }
    },
    {
      "cell_type": "code",
      "source": [
        "#creation\n",
        "fs= frozenset([1,2,4])\n",
        "print(fs)"
      ],
      "metadata": {
        "colab": {
          "base_uri": "https://localhost:8080/"
        },
        "id": "HSdABVtPEyjh",
        "outputId": "bdd83f1a-c7d4-4f37-e33a-549ed61939ae"
      },
      "execution_count": 16,
      "outputs": [
        {
          "output_type": "stream",
          "name": "stdout",
          "text": [
            "frozenset({1, 2, 4})\n"
          ]
        }
      ]
    },
    {
      "cell_type": "markdown",
      "source": [
        "#Dictionary\n",
        "\n",
        "a collection of keys and values\n",
        "\n",
        "\n",
        "##mutable\n",
        "#indexing has no meaning\n",
        "#keys can't be duplicated\n",
        "#*** keys can't be mutable items\n",
        "\n"
      ],
      "metadata": {
        "id": "w09R4NVmFNmz"
      }
    },
    {
      "cell_type": "markdown",
      "source": [
        "#creation"
      ],
      "metadata": {
        "id": "sTlm3AsmF2Kj"
      }
    },
    {
      "cell_type": "code",
      "source": [
        "#empty\n",
        "d = {}\n",
        "\n",
        "#1D\n",
        "d1 = { \"name\":\"rakib\", \"gender\":\"male\"}\n",
        "\n",
        "\n",
        "#mixed key\n",
        "\n",
        "d3 = { (1,2,3): 1 , 'hello':'world'} # tuple are immutable so it can be used as key\n",
        "\n",
        "\n",
        "#2D\n",
        "d2 = {\n",
        "    'name':'rakib',\n",
        "    'subjects': {\n",
        "        'dsa':50\n",
        "    }\n",
        "}\n",
        "\n",
        "#using sequence and dict function\n",
        "\n",
        "d4 = dict([('name','nitesh'), ('age', 32 ),(3,4)])\n",
        "\n",
        "\n",
        "# duplicate keys\n",
        "\n",
        "d5 = {'name':\"rakib\", \"name\":\"hasan\"}"
      ],
      "metadata": {
        "id": "g5xeNu85F4Vo"
      },
      "execution_count": null,
      "outputs": []
    },
    {
      "cell_type": "markdown",
      "source": [
        "#Accesing items\n",
        "\n"
      ],
      "metadata": {
        "id": "j6OmEWsKH18u"
      }
    },
    {
      "cell_type": "code",
      "source": [
        "\n",
        "my_dict = { 'name':'jack', 'age':26}\n",
        "\n",
        "my_dict['age']\n",
        "\n",
        "\n",
        "my_dict.get('age')\n"
      ],
      "metadata": {
        "id": "XhhJ3nRuICN1"
      },
      "execution_count": null,
      "outputs": []
    },
    {
      "cell_type": "markdown",
      "source": [
        "#Adding key- value"
      ],
      "metadata": {
        "id": "OhLFUErLIOCL"
      }
    },
    {
      "cell_type": "code",
      "source": [
        "my_dict = { 'name':'jack', 'age':26}\n",
        "my_dict['new']= 54\n",
        "my_dict"
      ],
      "metadata": {
        "colab": {
          "base_uri": "https://localhost:8080/"
        },
        "id": "deVD5P28IRMO",
        "outputId": "651f8258-c55d-47e2-c832-1eec76fc084e"
      },
      "execution_count": 17,
      "outputs": [
        {
          "output_type": "execute_result",
          "data": {
            "text/plain": [
              "{'name': 'jack', 'age': 26, 'new': 54}"
            ]
          },
          "metadata": {},
          "execution_count": 17
        }
      ]
    },
    {
      "cell_type": "markdown",
      "source": [
        "#remove\n"
      ],
      "metadata": {
        "id": "jo4tuvBvIdHI"
      }
    },
    {
      "cell_type": "code",
      "source": [
        "d = { 'name':'jack', 'age':26}\n",
        "\n",
        "#pop\n",
        "d.pop('name')#always key\n",
        "\n",
        "#popitem\n",
        "\n",
        "d.popitem()# delete last\n",
        "\n",
        "\n",
        "# del\n",
        "del d['name']\n",
        "\n",
        "\n",
        "#clear\n"
      ],
      "metadata": {
        "id": "80TW-rQHIfEq"
      },
      "execution_count": null,
      "outputs": []
    },
    {
      "cell_type": "markdown",
      "source": [
        "#editing"
      ],
      "metadata": {
        "id": "dF7LGRRJJBqj"
      }
    },
    {
      "cell_type": "code",
      "source": [
        "d = { 'name':'jack', 'age':26}\n",
        "\n",
        "d['name']=10\n",
        "print(d)"
      ],
      "metadata": {
        "colab": {
          "base_uri": "https://localhost:8080/"
        },
        "id": "WTUjRH85JD1w",
        "outputId": "294b4ff5-f5a7-4602-9454-9a2e9cf3269a"
      },
      "execution_count": 18,
      "outputs": [
        {
          "output_type": "execute_result",
          "data": {
            "text/plain": [
              "{'name': 10, 'age': 26}"
            ]
          },
          "metadata": {},
          "execution_count": 18
        }
      ]
    },
    {
      "cell_type": "markdown",
      "source": [
        "operation"
      ],
      "metadata": {
        "id": "W4fGAFz5JQhz"
      }
    },
    {
      "cell_type": "code",
      "source": [
        "#membership\n",
        "#itertion\n",
        "for i in d:\n",
        "  print(i, d[i])# i is key and d[i]is value"
      ],
      "metadata": {
        "id": "JDKI8ymdJRuT"
      },
      "execution_count": null,
      "outputs": []
    },
    {
      "cell_type": "markdown",
      "source": [
        "#functions\n"
      ],
      "metadata": {
        "id": "E3WNfBtbJl6w"
      }
    },
    {
      "cell_type": "code",
      "source": [
        "#len,sorted , max\n",
        "\n",
        "#items\n",
        "d = { 'name':'jack', 'age':26}\n",
        "print(d.items())\n",
        "\n",
        "#keys\n",
        "\n",
        "print(d.keys())\n",
        "#value\n",
        "\n",
        "print(d.values())\n",
        "\n",
        "\n",
        "\n",
        "#function\n",
        "\n",
        "d2={'age':26, 'oke':\"nice\" }\n",
        "\n",
        "d.update(d2)\n",
        "print(d)"
      ],
      "metadata": {
        "colab": {
          "base_uri": "https://localhost:8080/"
        },
        "id": "N21SztdjJn0x",
        "outputId": "6fe6bfaf-bffd-4b99-cb1c-520c091ed80d"
      },
      "execution_count": 20,
      "outputs": [
        {
          "output_type": "stream",
          "name": "stdout",
          "text": [
            "dict_items([('name', 'jack'), ('age', 26)])\n",
            "dict_keys(['name', 'age'])\n",
            "dict_values(['jack', 26])\n",
            "{'name': 'jack', 'age': 26, 'oke': 'nice'}\n"
          ]
        }
      ]
    },
    {
      "cell_type": "markdown",
      "source": [
        "#dictionary Comprehension\n"
      ],
      "metadata": {
        "id": "rDLDrOBeKvhk"
      }
    },
    {
      "cell_type": "code",
      "source": [
        "# print 1st 5 number with their square\n",
        "\n",
        "\n",
        "{i:i**2 for i in range(1,6)}\n"
      ],
      "metadata": {
        "colab": {
          "base_uri": "https://localhost:8080/"
        },
        "id": "ttcAqdQMK03V",
        "outputId": "130464da-c4a1-4ecf-9b81-d9b141a82655"
      },
      "execution_count": 21,
      "outputs": [
        {
          "output_type": "execute_result",
          "data": {
            "text/plain": [
              "{1: 1, 2: 4, 3: 9, 4: 16, 5: 25}"
            ]
          },
          "metadata": {},
          "execution_count": 21
        }
      ]
    },
    {
      "cell_type": "code",
      "source": [
        "# chage an existing dict value\n",
        "\n",
        "dist ={'ctg':100,'dhaka':200}\n",
        "\n",
        "\n",
        "new_dist= {i:dist[i]*3 for i in dist}\n",
        "print(new_dist)"
      ],
      "metadata": {
        "colab": {
          "base_uri": "https://localhost:8080/"
        },
        "id": "DxqCvOOXLUZn",
        "outputId": "79ea4236-3524-41d4-eb34-7c6e73bbdb12"
      },
      "execution_count": 23,
      "outputs": [
        {
          "output_type": "stream",
          "name": "stdout",
          "text": [
            "{'ctg': 300, 'dhaka': 600}\n"
          ]
        }
      ]
    },
    {
      "cell_type": "code",
      "source": [
        "# making 2 list a map\n",
        "list1= [1,3,4,55]\n",
        "list2 = [\"f\",\"s\",\"f\",\"q\"]\n",
        "\n",
        "\n",
        "map= {i:j for (i,j) in zip(list1,list2)}\n",
        "map"
      ],
      "metadata": {
        "colab": {
          "base_uri": "https://localhost:8080/"
        },
        "id": "oZ7-AIzCMDQL",
        "outputId": "c9c89fe4-67d3-46b0-d128-c1a00a5d95ca"
      },
      "execution_count": 26,
      "outputs": [
        {
          "output_type": "execute_result",
          "data": {
            "text/plain": [
              "{1: 'f', 3: 's', 4: 'f', 55: 'q'}"
            ]
          },
          "metadata": {},
          "execution_count": 26
        }
      ]
    },
    {
      "cell_type": "code",
      "source": [
        "#using if condition\n",
        "\n",
        "dist ={'ctg':100,'dhaka':200}\n",
        "\n",
        "\n",
        "{key:value for (key,value)in dist.items() if key =='ctg'}"
      ],
      "metadata": {
        "colab": {
          "base_uri": "https://localhost:8080/"
        },
        "id": "1vL_Me1qMgsO",
        "outputId": "4c7fd192-2597-48f6-d2be-6bd686cab02b"
      },
      "execution_count": 27,
      "outputs": [
        {
          "output_type": "execute_result",
          "data": {
            "text/plain": [
              "{'ctg': 100}"
            ]
          },
          "metadata": {},
          "execution_count": 27
        }
      ]
    },
    {
      "cell_type": "code",
      "source": [],
      "metadata": {
        "id": "QTmvGTy3MMzq"
      },
      "execution_count": null,
      "outputs": []
    }
  ]
}