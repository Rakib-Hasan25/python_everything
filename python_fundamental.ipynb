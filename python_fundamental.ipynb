{
  "nbformat": 4,
  "nbformat_minor": 0,
  "metadata": {
    "colab": {
      "provenance": [],
      "toc_visible": true,
      "authorship_tag": "ABX9TyP9e3AK23nNvOZgrL+KaCpB",
      "include_colab_link": true
    },
    "kernelspec": {
      "name": "python3",
      "display_name": "Python 3"
    },
    "language_info": {
      "name": "python"
    }
  },
  "cells": [
    {
      "cell_type": "markdown",
      "metadata": {
        "id": "view-in-github",
        "colab_type": "text"
      },
      "source": [
        "<a href=\"https://colab.research.google.com/github/Rakib-Hasan25/python_everything/blob/main/python_fundamental.ipynb\" target=\"_parent\"><img src=\"https://colab.research.google.com/assets/colab-badge.svg\" alt=\"Open In Colab\"/></a>"
      ]
    },
    {
      "cell_type": "markdown",
      "source": [
        "#**1. Python Output**"
      ],
      "metadata": {
        "id": "773oOcYSny-8"
      }
    },
    {
      "cell_type": "code",
      "source": [
        "print(\"hello\")"
      ],
      "metadata": {
        "colab": {
          "base_uri": "https://localhost:8080/"
        },
        "id": "iOtX5OdeoE99",
        "outputId": "ecd03f70-812e-4aa4-f208-bcae0af7fca9"
      },
      "execution_count": null,
      "outputs": [
        {
          "output_type": "stream",
          "name": "stdout",
          "text": [
            "hello\n"
          ]
        }
      ]
    },
    {
      "cell_type": "code",
      "source": [
        "print(\"hello\",2,True,4.5)"
      ],
      "metadata": {
        "colab": {
          "base_uri": "https://localhost:8080/"
        },
        "id": "ejmaSkjPocjE",
        "outputId": "0926d739-189f-4b05-f4ad-cf0ebbaf1968"
      },
      "execution_count": null,
      "outputs": [
        {
          "output_type": "stream",
          "name": "stdout",
          "text": [
            "hello 2 True 4.5\n"
          ]
        }
      ]
    },
    {
      "cell_type": "code",
      "source": [],
      "metadata": {
        "id": "t4XHvLoQGTXt"
      },
      "execution_count": null,
      "outputs": []
    },
    {
      "cell_type": "markdown",
      "source": [
        "#Comments"
      ],
      "metadata": {
        "id": "yiERUHY3xlxL"
      }
    },
    {
      "cell_type": "code",
      "source": [
        "#sep=\" \" and end = \"/n\" are buildin in print function\n",
        "# when there are multiple item then item will be separated with space\n",
        "# and after every print function their will be '/n' which will be new line\n",
        "\n",
        "\n",
        "#sep\n",
        "print(\"hello\",2,True,4.5, sep= \"-\")\n"
      ],
      "metadata": {
        "colab": {
          "base_uri": "https://localhost:8080/"
        },
        "id": "vWbQg7kBoqZC",
        "outputId": "87c00d63-d5b2-4e45-ac4d-cf58a98c857e"
      },
      "execution_count": null,
      "outputs": [
        {
          "output_type": "stream",
          "name": "stdout",
          "text": [
            "hello-2-True-4.5\n"
          ]
        }
      ]
    },
    {
      "cell_type": "code",
      "source": [
        "#end\n",
        "print(\"rakib\")\n",
        "print(\"3\")"
      ],
      "metadata": {
        "colab": {
          "base_uri": "https://localhost:8080/"
        },
        "id": "9EWEMpoOp6qZ",
        "outputId": "fac3429a-ad72-4081-c8f8-c4444221ca67"
      },
      "execution_count": null,
      "outputs": [
        {
          "output_type": "stream",
          "name": "stdout",
          "text": [
            "rakib\n",
            "3\n"
          ]
        }
      ]
    },
    {
      "cell_type": "code",
      "source": [
        "print(\"rakib\", end=\" \")\n",
        "print(\"3\")"
      ],
      "metadata": {
        "colab": {
          "base_uri": "https://localhost:8080/"
        },
        "id": "-m9zpKOWqBtW",
        "outputId": "b0414cfc-21cf-45df-87ba-c8643c276c0d"
      },
      "execution_count": null,
      "outputs": [
        {
          "output_type": "stream",
          "name": "stdout",
          "text": [
            "rakib 3\n"
          ]
        }
      ]
    },
    {
      "cell_type": "code",
      "source": [],
      "metadata": {
        "id": "wVKlTmKOqKrc"
      },
      "execution_count": null,
      "outputs": []
    },
    {
      "cell_type": "markdown",
      "source": [
        "#3.DATA TYPES\n",
        "\n",
        "###A data type defines the kind of values that can be stored and manipulated within a programming language,"
      ],
      "metadata": {
        "id": "aX9PVaHyqNlf"
      }
    },
    {
      "cell_type": "code",
      "source": [
        "#integar\n",
        "\n",
        "print(1e308)\n",
        "#max greater than or near 1e308\n",
        "print(1e309)"
      ],
      "metadata": {
        "id": "goeaoE_Sq1Sl",
        "colab": {
          "base_uri": "https://localhost:8080/"
        },
        "outputId": "a164275e-f89d-40b4-ca53-58cb504a6760"
      },
      "execution_count": 8,
      "outputs": [
        {
          "output_type": "stream",
          "name": "stdout",
          "text": [
            "1e+308\n",
            "inf\n"
          ]
        }
      ]
    },
    {
      "cell_type": "code",
      "source": [
        "#float\n",
        "print(3.5)"
      ],
      "metadata": {
        "id": "UNZ7ZMadudq-"
      },
      "execution_count": null,
      "outputs": []
    },
    {
      "cell_type": "code",
      "source": [
        "#string\n",
        "print(\"rakib\")"
      ],
      "metadata": {
        "id": "1VfWBTPCz0W_"
      },
      "execution_count": null,
      "outputs": []
    },
    {
      "cell_type": "code",
      "source": [
        "#Boolean\n",
        "print(True)\n",
        "print(False)"
      ],
      "metadata": {
        "colab": {
          "base_uri": "https://localhost:8080/"
        },
        "id": "tFAYRvkvujl4",
        "outputId": "771c798e-e3b8-4e1f-ab69-e2e27d5d01c8"
      },
      "execution_count": 9,
      "outputs": [
        {
          "output_type": "stream",
          "name": "stdout",
          "text": [
            "True\n",
            "False\n"
          ]
        }
      ]
    },
    {
      "cell_type": "code",
      "source": [
        "#List\n",
        "print([1,2,3,4])"
      ],
      "metadata": {
        "colab": {
          "base_uri": "https://localhost:8080/"
        },
        "id": "q46DQRWguwZm",
        "outputId": "30171e7c-1de3-45bd-dca3-23cdd3ef4f6d"
      },
      "execution_count": 10,
      "outputs": [
        {
          "output_type": "stream",
          "name": "stdout",
          "text": [
            "[1, 2, 3, 4]\n"
          ]
        }
      ]
    },
    {
      "cell_type": "code",
      "source": [
        "#Tuple\n",
        "print((2,4,5,6))"
      ],
      "metadata": {
        "colab": {
          "base_uri": "https://localhost:8080/"
        },
        "id": "m4NPr4E3u8IF",
        "outputId": "96676a08-7b87-43bb-9f66-253db7cdb50e"
      },
      "execution_count": 11,
      "outputs": [
        {
          "output_type": "stream",
          "name": "stdout",
          "text": [
            "(2, 4, 5, 6)\n"
          ]
        }
      ]
    },
    {
      "cell_type": "code",
      "source": [
        "#sets\n",
        "print({1,2,3,4,5})\n"
      ],
      "metadata": {
        "colab": {
          "base_uri": "https://localhost:8080/"
        },
        "id": "uu4xAmXKvCwG",
        "outputId": "0e245971-ca72-4499-c284-bf1a70f41fcb"
      },
      "execution_count": 12,
      "outputs": [
        {
          "output_type": "stream",
          "name": "stdout",
          "text": [
            "{1, 2, 3, 4, 5}\n"
          ]
        }
      ]
    },
    {
      "cell_type": "code",
      "source": [
        "#dictionary\n",
        "print({\"rakib\":\"hasan\", \"shahin\":\"mahi\"})"
      ],
      "metadata": {
        "colab": {
          "base_uri": "https://localhost:8080/"
        },
        "id": "GbBNnyZZvKOY",
        "outputId": "dbdb6a30-77ee-4402-d830-d7c9f248051e"
      },
      "execution_count": 13,
      "outputs": [
        {
          "output_type": "stream",
          "name": "stdout",
          "text": [
            "{'rakib': 'hasan', 'shahin': 'mahi'}\n"
          ]
        }
      ]
    },
    {
      "cell_type": "code",
      "source": [
        "#complex\n",
        "print(1+3j)"
      ],
      "metadata": {
        "colab": {
          "base_uri": "https://localhost:8080/"
        },
        "id": "kmcl2dj3vzrb",
        "outputId": "0c789b30-1c14-4944-cf06-8a7eace5f0f9"
      },
      "execution_count": 14,
      "outputs": [
        {
          "output_type": "stream",
          "name": "stdout",
          "text": [
            "(1+3j)\n"
          ]
        }
      ]
    },
    {
      "cell_type": "code",
      "source": [
        "# to know any value data type\n",
        "type(1+3j)\n",
        "type([1,2,3,5])"
      ],
      "metadata": {
        "colab": {
          "base_uri": "https://localhost:8080/"
        },
        "id": "QiFwq30Dv6n-",
        "outputId": "3a55b108-825b-4a36-c4cb-886a5ac61bfd"
      },
      "execution_count": 16,
      "outputs": [
        {
          "output_type": "execute_result",
          "data": {
            "text/plain": [
              "list"
            ]
          },
          "metadata": {},
          "execution_count": 16
        }
      ]
    },
    {
      "cell_type": "markdown",
      "source": [
        "#4.Variables\n",
        "###A variable in programming is like a labeled container that holds data, allowing you to store"
      ],
      "metadata": {
        "id": "uGz5gp4svkm8"
      }
    },
    {
      "cell_type": "code",
      "source": [
        "# 3 important things to know\n",
        "# static vs dynamic typing\n",
        "# Static vs dynamic biniding\n",
        "# stylish declaration technique"
      ],
      "metadata": {
        "id": "nb5bUqLbv5uz"
      },
      "execution_count": null,
      "outputs": []
    },
    {
      "cell_type": "code",
      "source": [
        "#static typing:\n",
        "\n",
        "#int a = 3 # declare the variable data type firstly\n",
        "\n",
        "#dynamic typing\n",
        "a = 3 # don't don't to declare the datatype , python itself understand that"
      ],
      "metadata": {
        "id": "Bo6LGNDkyTer"
      },
      "execution_count": null,
      "outputs": []
    },
    {
      "cell_type": "code",
      "source": [
        "#static binding\n",
        "\n",
        "# if we declare a variable name as int and store data then we can't store any other type variable\n",
        "# int a = 10\n",
        "# a = \"afsdfs\"   # not possible\n",
        "\n",
        "\n",
        "# dynamic binding\n",
        "\n",
        "a = 3\n",
        "print(a)\n",
        "a = \"adfds\"\n",
        "print(a) # possible\n",
        "\n"
      ],
      "metadata": {
        "id": "hz8Ygm2rzMos"
      },
      "execution_count": null,
      "outputs": []
    },
    {
      "cell_type": "code",
      "source": [
        "#stylish declaration techinque\n",
        "\n",
        "\n",
        "a,b,c = (1,2,3)\n",
        "print(a,b,c)\n",
        "\n",
        "# a,b = (1,3,4)\n",
        "# print(a,b,c) not possible\n",
        "\n",
        "# a,b,c = (1,2) not possible"
      ],
      "metadata": {
        "colab": {
          "base_uri": "https://localhost:8080/"
        },
        "id": "Ggx6ctNr0Vau",
        "outputId": "85d6249c-4051-4acd-ba7a-916ec0ab7927"
      },
      "execution_count": 21,
      "outputs": [
        {
          "output_type": "stream",
          "name": "stdout",
          "text": [
            "1 2 3\n"
          ]
        }
      ]
    },
    {
      "cell_type": "code",
      "source": [
        "a = b = c = 2\n",
        "print(a,b,c)"
      ],
      "metadata": {
        "colab": {
          "base_uri": "https://localhost:8080/"
        },
        "id": "xk37lNlq1qOe",
        "outputId": "0d1851ec-6f26-4c19-fb33-d21172f4d310"
      },
      "execution_count": 22,
      "outputs": [
        {
          "output_type": "stream",
          "name": "stdout",
          "text": [
            "2 2 2\n"
          ]
        }
      ]
    },
    {
      "cell_type": "code",
      "source": [],
      "metadata": {
        "id": "JewNDsYE1uwN"
      },
      "execution_count": null,
      "outputs": []
    },
    {
      "cell_type": "markdown",
      "source": [
        "#5.keyword\n",
        "######Keywords in Python are reserved words that have predefined meanings and are used to perform specific tasks or operations within the language\n",
        "\n",
        "###and this word we can't use for taking variable name\n",
        "\n"
      ],
      "metadata": {
        "id": "rrOVcecL1vYV"
      }
    },
    {
      "cell_type": "markdown",
      "source": [
        "#6 . Identifiers:\n",
        "#### an identifier is a name given to entities like variables, functions, classes, etc., while a variable is a specific type of identifier that stores data and can be assigned a value that can change during program execution. So, while all variables are identifiers, not all identifiers are variables.\n",
        "\n",
        "\n",
        "\n",
        "#Rules for naming identifiers:\n",
        "#1. we can't start naming with digit\n",
        "##1rakib = 10 (not possible)\n",
        "\n",
        "#2. you can not use special characters except (_)\n",
        "##_rakib=10 (possible)\n",
        "\n",
        "\n",
        "#3.can't use keyword\n",
        "\n"
      ],
      "metadata": {
        "id": "nCcQb7KS3WIm"
      }
    },
    {
      "cell_type": "markdown",
      "source": [
        "#7.User Input"
      ],
      "metadata": {
        "id": "HdOQ23T55PER"
      }
    },
    {
      "cell_type": "code",
      "source": [
        "input(\"please enter a name\")"
      ],
      "metadata": {
        "colab": {
          "base_uri": "https://localhost:8080/",
          "height": 53
        },
        "id": "OhnhEuMm5eXe",
        "outputId": "37399043-a879-47c9-979c-148e8b154f28"
      },
      "execution_count": 27,
      "outputs": [
        {
          "name": "stdout",
          "output_type": "stream",
          "text": [
            "please enter a name rakib\n"
          ]
        },
        {
          "output_type": "execute_result",
          "data": {
            "text/plain": [
              "' rakib'"
            ],
            "application/vnd.google.colaboratory.intrinsic+json": {
              "type": "string"
            }
          },
          "metadata": {},
          "execution_count": 27
        }
      ]
    },
    {
      "cell_type": "code",
      "source": [
        "#take input from user and store them in a variable\n",
        "\n",
        "fnum = input(\"enter the first number \")\n",
        "snum = input(\"enter the second number \")\n",
        "print(fnum);\n",
        "print(snum)\n",
        "\n"
      ],
      "metadata": {
        "colab": {
          "base_uri": "https://localhost:8080/"
        },
        "id": "KYz8iQMTAyzF",
        "outputId": "c70e12d7-13f1-451b-b84f-e3dcded615d0"
      },
      "execution_count": 26,
      "outputs": [
        {
          "name": "stdout",
          "output_type": "stream",
          "text": [
            "enter the first number 3\n",
            "enter the second number 4\n"
          ]
        }
      ]
    },
    {
      "cell_type": "code",
      "source": [
        "# *** most important part input take anything as \"string\" formet\n",
        "fnum = input(\"enter the first number \")\n",
        "snum = input(\"enter the second number \")\n",
        "type(fnum)  # this will be string\n",
        "\n"
      ],
      "metadata": {
        "colab": {
          "base_uri": "https://localhost:8080/"
        },
        "id": "JcTWBs3KBRbY",
        "outputId": "22d45998-80f3-4ad2-c009-4218e02b4bbf"
      },
      "execution_count": 28,
      "outputs": [
        {
          "name": "stdout",
          "output_type": "stream",
          "text": [
            "enter the first number 3\n",
            "enter the second number 4\n"
          ]
        },
        {
          "output_type": "execute_result",
          "data": {
            "text/plain": [
              "str"
            ]
          },
          "metadata": {},
          "execution_count": 28
        }
      ]
    },
    {
      "cell_type": "markdown",
      "source": [
        "#8.type conversion"
      ],
      "metadata": {
        "id": "mTXGi1VYD_b9"
      }
    },
    {
      "cell_type": "code",
      "source": [
        "#can't have any operation between two datatype\n",
        "#implicit\n",
        "a = 10\n",
        "b = 5.5\n",
        "c = a + b\n",
        "print(c)\n",
        "print(type(c))\n",
        "\n",
        "\n",
        "#explicit\n",
        "a = 10\n",
        "b = str(10)\n",
        "print(type(b))\n",
        "\n",
        "\n",
        "a = \"233\"\n",
        "b = int(a)\n",
        "print(type(b))"
      ],
      "metadata": {
        "colab": {
          "base_uri": "https://localhost:8080/"
        },
        "id": "C04TcQeHEJLM",
        "outputId": "2f38cb58-de04-42c6-eed4-ef0e157cfe7a"
      },
      "execution_count": 38,
      "outputs": [
        {
          "output_type": "stream",
          "name": "stdout",
          "text": [
            "15.5\n",
            "<class 'float'>\n",
            "<class 'str'>\n",
            "<class 'int'>\n"
          ]
        }
      ]
    },
    {
      "cell_type": "markdown",
      "source": [
        "#9.extra part of user input"
      ],
      "metadata": {
        "id": "vZgiVIkuFOPW"
      }
    },
    {
      "cell_type": "code",
      "source": [
        "\n",
        "# fnum = int(input(\"enter the first number \"))\n",
        "# snum = input(\"enter the second number \")\n",
        "# sum = fnum+ snum\n",
        "# type(sum)\n",
        "\n",
        "\n",
        "# here fnum is int and snum is in string\n",
        "# so we can't sum"
      ],
      "metadata": {
        "id": "NxotHAG8COaT"
      },
      "execution_count": 30,
      "outputs": []
    },
    {
      "cell_type": "code",
      "source": [
        "#1 method\n",
        "fnum = input(\"enter the first number \")\n",
        "snum = input(\"enter the second number \")\n",
        "sum = int(fnum)+int(snum)\n",
        "print(sum);\n",
        "print(type(sum));"
      ],
      "metadata": {
        "colab": {
          "base_uri": "https://localhost:8080/"
        },
        "id": "naCzpgpyDKgy",
        "outputId": "1edb13bf-6036-4d41-8a29-8cd13053fbde"
      },
      "execution_count": 33,
      "outputs": [
        {
          "output_type": "stream",
          "name": "stdout",
          "text": [
            "enter the first number 3\n",
            "enter the second number 4\n",
            "7\n",
            "<class 'int'>\n"
          ]
        }
      ]
    },
    {
      "cell_type": "code",
      "source": [
        "# 2 method\n",
        "fnum = int(input(\"enter the first number \"))\n",
        "snum = int(input(\"enter the second number \"))\n",
        "sum = fnum+snum\n",
        "print(sum);\n",
        "print(type(sum));\n"
      ],
      "metadata": {
        "colab": {
          "base_uri": "https://localhost:8080/"
        },
        "id": "JYouVJm9FkSu",
        "outputId": "fef37526-0bc4-4c6d-c3f2-959a10b2d99b"
      },
      "execution_count": 39,
      "outputs": [
        {
          "output_type": "stream",
          "name": "stdout",
          "text": [
            "enter the first number 3\n",
            "enter the second number 4\n",
            "7\n",
            "<class 'int'>\n"
          ]
        }
      ]
    },
    {
      "cell_type": "markdown",
      "source": [
        "#10.Literals\n",
        "#### They represent raw data and can include numbers, strings, boolean values, and other primitive data type"
      ],
      "metadata": {
        "id": "gTpj3mYLF_We"
      }
    },
    {
      "cell_type": "code",
      "source": [
        "a = 0b1010 #Binary Literals\n",
        "b = 100   # Decimal Literals\n",
        "c = 0o210 # Octal Literals\n",
        "d = 0x14a #Hexadecimal Literal\n",
        "\n",
        "#Float Literal\n",
        "float_1=10.5\n",
        "float_2= 1.5e2\n",
        "float_3= 1.5e-3\n",
        "\n",
        "#complex Literal\n",
        "x = 3.14j"
      ],
      "metadata": {
        "id": "QhhzvN6RGgeV"
      },
      "execution_count": null,
      "outputs": []
    },
    {
      "cell_type": "code",
      "source": [
        "print(a,b,c,d)\n",
        "print(float_1, float_2,float_3)\n"
      ],
      "metadata": {
        "id": "_mUMMukzHzCK"
      },
      "execution_count": null,
      "outputs": []
    },
    {
      "cell_type": "code",
      "source": [
        "#string Literals\n",
        "string1 ='this is rakib'\n",
        "string2 =\"this is rakib\"\n",
        "string3 = \"\"\"\n",
        "this is rakib\n",
        "this is mahi\n",
        "this is hasina\n",
        "\n",
        "\"\"\"\n",
        "unicode1 = u'\\U0001F604'\n",
        "\n",
        "abc = \"a \\n ffd \\n c\"\n",
        "raw_str = r\"raw \\n string\"\n",
        "\n",
        "print(string3)\n",
        "print(unicode1)\n",
        "print(abc)\n"
      ],
      "metadata": {
        "colab": {
          "base_uri": "https://localhost:8080/"
        },
        "id": "A5OXAhIBIAi1",
        "outputId": "1217c16b-7474-4a73-9634-5ba4b5fee1e3"
      },
      "execution_count": 44,
      "outputs": [
        {
          "output_type": "stream",
          "name": "stdout",
          "text": [
            " \n",
            "this is rakib\n",
            "this is mahi\n",
            "this is hasina\n",
            "\n",
            "\n",
            "😄\n",
            "a \n",
            " ffd \n",
            " c\n"
          ]
        }
      ]
    },
    {
      "cell_type": "code",
      "source": [
        "# if we want to declare a variable previously but don't want to upload a value\n",
        "a = None\n",
        "print(a)\n"
      ],
      "metadata": {
        "id": "dH-PKuOAIyxq"
      },
      "execution_count": null,
      "outputs": []
    },
    {
      "cell_type": "markdown",
      "source": [
        "#11.Operators in python\n",
        "\n",
        "###*Arithmatic\n",
        "###*Relational\n",
        "###*Logical\n",
        "###*Bitwise\n",
        "###*Assignment\n",
        "###*Membership"
      ],
      "metadata": {
        "id": "0xa8pQjVKZdZ"
      }
    },
    {
      "cell_type": "code",
      "source": [
        "#Arithmatic\n",
        "# '+' , \"-\", \"*\", \"/\", \"//\", \"%\", \"**\"\n",
        "\n",
        "a = (12/5)\n",
        "b= (12//5) # give round floor value\n",
        "print(a,b)\n",
        "\n",
        "c= (12%5)\n",
        "print(c);\n",
        "\n",
        "\n",
        "d = (2 ** 3) # 2 power 3\n",
        "print(d)\n",
        "\n",
        "\n",
        "\n",
        "\n"
      ],
      "metadata": {
        "colab": {
          "base_uri": "https://localhost:8080/"
        },
        "id": "UQU_k2DDK-s1",
        "outputId": "4fabfdc0-3b04-45c2-98d1-880dbb060e69"
      },
      "execution_count": 47,
      "outputs": [
        {
          "output_type": "stream",
          "name": "stdout",
          "text": [
            "2.4 2\n",
            "2\n",
            "8\n"
          ]
        }
      ]
    },
    {
      "cell_type": "code",
      "source": [
        "#Relational\n",
        "\n",
        "# \">\",\"<\", \">=\", \"==\", \"!=\""
      ],
      "metadata": {
        "id": "YfzKual2L8TC"
      },
      "execution_count": null,
      "outputs": []
    },
    {
      "cell_type": "code",
      "source": [
        "#logical\n",
        "\n",
        "# and    or     not\n",
        "\n",
        "\n",
        "print( 1 and 0 )\n",
        "\n",
        "print(0 and 0 )\n",
        "\n",
        "\n",
        "print(1 or 0)\n",
        "\n",
        "print(not 1)\n"
      ],
      "metadata": {
        "colab": {
          "base_uri": "https://localhost:8080/"
        },
        "id": "1Pdba4aAMMRS",
        "outputId": "1186b2e4-dd1f-4852-e118-bf32d6f23f10"
      },
      "execution_count": 49,
      "outputs": [
        {
          "output_type": "stream",
          "name": "stdout",
          "text": [
            "0\n",
            "0\n",
            "1\n",
            "False\n"
          ]
        }
      ]
    },
    {
      "cell_type": "code",
      "source": [
        "#bitwise\n",
        "\n",
        "\n",
        "# bitwise or  '|'\n",
        "print(2 | 3)\n",
        "\n",
        "# bitwise and  '&'\n",
        "print(2 & 3)\n",
        "\n",
        "#bitwise nor '^'\n",
        "print(2^3)\n",
        "\n",
        "# bitwise not '~'\n",
        "print(~3)\n",
        "\n",
        "# left shift\n",
        "print(3<<1)\n",
        "\n",
        "# right shift\n",
        "print(1>>2)\n",
        "\n",
        "\n",
        "\n",
        "# ++a or a++ not exist\n"
      ],
      "metadata": {
        "id": "clRuf-SMNQ4q"
      },
      "execution_count": null,
      "outputs": []
    },
    {
      "cell_type": "code",
      "source": [
        "#membership\n",
        "\n",
        "#in/not in\n",
        "# return only true or false\n",
        "\n",
        "print(\"d\" not in \"chittagong\")\n",
        "\n",
        "print(1 in [1,2,3,4])"
      ],
      "metadata": {
        "id": "Xl6CvsZkPAh_"
      },
      "execution_count": null,
      "outputs": []
    }
  ]
}