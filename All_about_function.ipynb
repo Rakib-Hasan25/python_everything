{
  "nbformat": 4,
  "nbformat_minor": 0,
  "metadata": {
    "colab": {
      "provenance": [],
      "authorship_tag": "ABX9TyNVsK451pVgglqnSWZNNztQ",
      "include_colab_link": true
    },
    "kernelspec": {
      "name": "python3",
      "display_name": "Python 3"
    },
    "language_info": {
      "name": "python"
    }
  },
  "cells": [
    {
      "cell_type": "markdown",
      "metadata": {
        "id": "view-in-github",
        "colab_type": "text"
      },
      "source": [
        "<a href=\"https://colab.research.google.com/github/Rakib-Hasan25/python_everything/blob/main/All_about_function.ipynb\" target=\"_parent\"><img src=\"https://colab.research.google.com/assets/colab-badge.svg\" alt=\"Open In Colab\"/></a>"
      ]
    },
    {
      "cell_type": "code",
      "source": [
        "#basic structure\n",
        "def hello():\n",
        "  print(\"hello\")"
      ],
      "metadata": {
        "id": "7CJy3_qiPj8d"
      },
      "execution_count": null,
      "outputs": []
    },
    {
      "cell_type": "code",
      "source": [
        "hello()"
      ],
      "metadata": {
        "colab": {
          "base_uri": "https://localhost:8080/"
        },
        "id": "RrtL6VN4P10P",
        "outputId": "189ee985-576d-4b88-ffcc-741dfeeb26e5"
      },
      "execution_count": null,
      "outputs": [
        {
          "output_type": "stream",
          "name": "stdout",
          "text": [
            "hello\n"
          ]
        }
      ]
    },
    {
      "cell_type": "code",
      "source": [
        "#pass perameter\n",
        "def hello(name):\n",
        "  print(\"hello \",name)"
      ],
      "metadata": {
        "id": "OG50wHHWP5eO"
      },
      "execution_count": null,
      "outputs": []
    },
    {
      "cell_type": "code",
      "source": [
        "hello(\"world\")"
      ],
      "metadata": {
        "colab": {
          "base_uri": "https://localhost:8080/"
        },
        "id": "F28rSp86QBgT",
        "outputId": "410c0aef-97a8-4b6f-c183-4a9a350f1a6e"
      },
      "execution_count": null,
      "outputs": [
        {
          "output_type": "stream",
          "name": "stdout",
          "text": [
            "hello  world\n"
          ]
        }
      ]
    },
    {
      "cell_type": "code",
      "source": [
        "#add two number\n"
      ],
      "metadata": {
        "id": "bAxaHzuSQRLz"
      },
      "execution_count": null,
      "outputs": []
    },
    {
      "cell_type": "code",
      "execution_count": null,
      "metadata": {
        "id": "hWVwsGTEOJ68"
      },
      "outputs": [],
      "source": [
        "def is_even(num):\n",
        "\n",
        "  \"\"\"\n",
        "    it is a function of check even\n",
        "  \"\"\"\n",
        "  #upper things is docs of function\n",
        "  if type(num)==int:\n",
        "    if(num%2)==0:\n",
        "      return 'even'\n",
        "    else:\n",
        "      return 'odd'\n",
        "  else:\n",
        "    return \"what are you doing bro\""
      ]
    },
    {
      "cell_type": "code",
      "source": [
        "is_even(2)\n",
        "print(is_even.__doc__) # to see the is_even function whole docs\n"
      ],
      "metadata": {
        "colab": {
          "base_uri": "https://localhost:8080/"
        },
        "id": "w7mUf8h3O3Oz",
        "outputId": "28fc99cc-6d5f-4a74-afe8-8cc412256b0a"
      },
      "execution_count": null,
      "outputs": [
        {
          "output_type": "stream",
          "name": "stdout",
          "text": [
            "\n",
            "    it is a function of check even\n",
            "  \n"
          ]
        }
      ]
    },
    {
      "cell_type": "markdown",
      "source": [
        "##how to pass perameter in different way"
      ],
      "metadata": {
        "id": "OF0IbeEWP7ka"
      }
    },
    {
      "cell_type": "code",
      "source": [
        "def power(a,b):\n",
        "  return a**b"
      ],
      "metadata": {
        "id": "5JijuVY1QDsy"
      },
      "execution_count": null,
      "outputs": []
    },
    {
      "cell_type": "code",
      "source": [
        "# power()"
      ],
      "metadata": {
        "id": "JkckE0ppRJ-C"
      },
      "execution_count": null,
      "outputs": []
    },
    {
      "cell_type": "code",
      "source": [
        "def power(a=1,b=1):\n",
        "  return a**b"
      ],
      "metadata": {
        "id": "KRSuqD8QRFJd"
      },
      "execution_count": null,
      "outputs": []
    },
    {
      "cell_type": "code",
      "source": [
        "power()# if pass no perameter then no problem"
      ],
      "metadata": {
        "colab": {
          "base_uri": "https://localhost:8080/"
        },
        "id": "CxWDw7vXRR16",
        "outputId": "b39a5fe3-ce43-457a-edff-fc9325348f1d"
      },
      "execution_count": null,
      "outputs": [
        {
          "output_type": "execute_result",
          "data": {
            "text/plain": [
              "1"
            ]
          },
          "metadata": {},
          "execution_count": 9
        }
      ]
    },
    {
      "cell_type": "code",
      "source": [
        "#positional\n",
        "power(1,3)"
      ],
      "metadata": {
        "id": "J2Fe8ZZpRhSU"
      },
      "execution_count": null,
      "outputs": []
    },
    {
      "cell_type": "code",
      "source": [
        "#keyword\n",
        "power(b=3,a=2)"
      ],
      "metadata": {
        "id": "OHYtTq7jQTwh"
      },
      "execution_count": null,
      "outputs": []
    },
    {
      "cell_type": "markdown",
      "source": [
        "# **args and **kwargs"
      ],
      "metadata": {
        "id": "SEM1dRyVQtDh"
      }
    },
    {
      "cell_type": "code",
      "source": [
        "#*args\n",
        "\n",
        "def multi(*args):\n",
        "  print(type(args))\n",
        "  for i in args:\n",
        "    print(i)\n",
        "\n",
        "# (*anything) create no problem\n",
        "#  we pass all the value as a collection which is tuple\n",
        "\n",
        "\n",
        "\n",
        "\n"
      ],
      "metadata": {
        "id": "dnVTHGm6QyIw"
      },
      "execution_count": null,
      "outputs": []
    },
    {
      "cell_type": "code",
      "source": [
        "multi(1,2,3,5) # can pass multiple value\n",
        "\n",
        "\n",
        "# of(hi='hi', ji=2, nep='fdf')\n"
      ],
      "metadata": {
        "colab": {
          "base_uri": "https://localhost:8080/"
        },
        "id": "j22tJYCHSFkC",
        "outputId": "3ef13a95-95b5-4bab-a1d0-5a0470814490"
      },
      "execution_count": null,
      "outputs": [
        {
          "output_type": "stream",
          "name": "stdout",
          "text": [
            "<class 'tuple'>\n",
            "1\n",
            "2\n",
            "3\n",
            "5\n"
          ]
        }
      ]
    },
    {
      "cell_type": "code",
      "source": [
        "#**kwrargs\n",
        "\n",
        "def of (**rakib):\n",
        "  print(type(rakib))\n",
        "  print(type(rakib.items()))\n",
        "  for (key,value) in rakib.items():\n",
        "    print(key,value)\n",
        "\n",
        "#we can pass any number of key & value pair\n"
      ],
      "metadata": {
        "id": "NpIcrECIR_My"
      },
      "execution_count": null,
      "outputs": []
    },
    {
      "cell_type": "code",
      "source": [
        "of(hi='hi', ji=2, nep='fdf')"
      ],
      "metadata": {
        "colab": {
          "base_uri": "https://localhost:8080/"
        },
        "id": "FX_noZiTSjJD",
        "outputId": "de46d563-de94-4ca9-ef6e-9f52ea4fa2eb"
      },
      "execution_count": null,
      "outputs": [
        {
          "output_type": "stream",
          "name": "stdout",
          "text": [
            "<class 'dict'>\n",
            "<class 'dict_items'>\n",
            "hi hi\n",
            "ji 2\n",
            "nep fdf\n"
          ]
        }
      ]
    },
    {
      "cell_type": "markdown",
      "source": [
        "#Scope"
      ],
      "metadata": {
        "id": "3nFsuc2ETEIV"
      }
    },
    {
      "cell_type": "code",
      "source": [
        "#scope\n",
        "\n",
        "def f(x):\n",
        "  x+=1\n",
        "  return x\n",
        "\n",
        "\n",
        "# we pass copy of x , not actual x"
      ],
      "metadata": {
        "id": "ibwzryLGT6Y3"
      },
      "execution_count": null,
      "outputs": []
    },
    {
      "cell_type": "code",
      "source": [
        "x=1\n",
        "print(f(x))\n",
        "print(x)\n"
      ],
      "metadata": {
        "id": "QcELTJ0BTMpg"
      },
      "execution_count": null,
      "outputs": []
    },
    {
      "cell_type": "code",
      "source": [
        "def f():\n",
        "  x=1\n",
        "  x+=1\n",
        "  print(\"inside function x = \", x)\n",
        "\n"
      ],
      "metadata": {
        "id": "sJdmS71cTo-e"
      },
      "execution_count": null,
      "outputs": []
    },
    {
      "cell_type": "code",
      "source": [
        "x=1\n",
        "f()\n",
        "print(\"outside function x = \", x)"
      ],
      "metadata": {
        "colab": {
          "base_uri": "https://localhost:8080/"
        },
        "id": "oEPQx6BOTzad",
        "outputId": "92bf7f82-d68d-457e-be95-eeb04519fe50"
      },
      "execution_count": null,
      "outputs": [
        {
          "output_type": "stream",
          "name": "stdout",
          "text": [
            "inside function x  2\n",
            "outside function x  1\n"
          ]
        }
      ]
    },
    {
      "cell_type": "code",
      "source": [
        "def f():\n",
        "  global x\n",
        "  x=1\n",
        "  x+=1\n",
        "\n",
        "# now this x is global"
      ],
      "metadata": {
        "id": "6KJP-cF6UUS-"
      },
      "execution_count": null,
      "outputs": []
    },
    {
      "cell_type": "code",
      "source": [
        "x=1\n",
        "print(\"before calling function => \",x)\n",
        "f()\n",
        "print(\"after calling function => \",x)\n"
      ],
      "metadata": {
        "colab": {
          "base_uri": "https://localhost:8080/"
        },
        "id": "QcpB37GqUPO5",
        "outputId": "b8f5d12e-1c72-4abb-f5cf-e4c6b6fbe4d6"
      },
      "execution_count": null,
      "outputs": [
        {
          "output_type": "stream",
          "name": "stdout",
          "text": [
            "before calling function =>  1\n",
            "after calling function =>  2\n"
          ]
        }
      ]
    },
    {
      "cell_type": "markdown",
      "source": [
        "#Nested Functions"
      ],
      "metadata": {
        "id": "GLmkK3WXVMe5"
      }
    },
    {
      "cell_type": "code",
      "source": [
        "def f():\n",
        "  def g():\n",
        "    print(\"inside g\")\n",
        "  print(\"inside f\")"
      ],
      "metadata": {
        "id": "llFeJ_awVPwM"
      },
      "execution_count": null,
      "outputs": []
    },
    {
      "cell_type": "code",
      "source": [
        "f()"
      ],
      "metadata": {
        "id": "uBcWVtlmVse2"
      },
      "execution_count": null,
      "outputs": []
    },
    {
      "cell_type": "code",
      "source": [
        "def f():\n",
        "  def g():\n",
        "    print(\"inside g\")\n",
        "  print(\"inside f\")\n",
        "  g()"
      ],
      "metadata": {
        "id": "WVxVEUCZV6cz"
      },
      "execution_count": null,
      "outputs": []
    },
    {
      "cell_type": "code",
      "source": [
        "f()"
      ],
      "metadata": {
        "id": "OZG5-8J9V_in"
      },
      "execution_count": null,
      "outputs": []
    },
    {
      "cell_type": "code",
      "source": [
        "#if we call\n",
        "g() # error\n",
        "\n",
        "# we can not call g() function outside"
      ],
      "metadata": {
        "id": "tAkcOFzpWJl3"
      },
      "execution_count": null,
      "outputs": []
    },
    {
      "cell_type": "code",
      "source": [
        "def g(x):\n",
        "  def h():\n",
        "    print(\"inside h\")\n",
        "    x =\"abc\"\n",
        "    print(\"inside h()  x= \", x)\n",
        "\n",
        "  x=x+1\n",
        "  print(\"inside g(x) x= \", x)\n",
        "  h()\n",
        "  return x"
      ],
      "metadata": {
        "id": "8fLHuL2FWZUw"
      },
      "execution_count": null,
      "outputs": []
    },
    {
      "cell_type": "code",
      "source": [
        "x=3\n",
        "z = g(x)\n",
        "print(\"it is value of z =\", z)"
      ],
      "metadata": {
        "colab": {
          "base_uri": "https://localhost:8080/"
        },
        "id": "79EW5nsEXrVW",
        "outputId": "b03f9260-043e-4bdc-b47e-06427811bc4b"
      },
      "execution_count": null,
      "outputs": [
        {
          "output_type": "stream",
          "name": "stdout",
          "text": [
            "inside g(x) x=  4\n",
            "inside h\n",
            "inside h()  x=  abc\n",
            "it is value of z = 4\n"
          ]
        }
      ]
    },
    {
      "cell_type": "markdown",
      "source": [
        "#Functions are 1st class citezen"
      ],
      "metadata": {
        "id": "hvWM37PRYelX"
      }
    },
    {
      "cell_type": "markdown",
      "source": [
        "### in programming language all the datatype are 1st class citizen\n",
        "\n",
        "\n",
        "###but in python \"Function is also a 1st class citizen\"\n",
        "###function can act like datatype"
      ],
      "metadata": {
        "id": "T36-9YO8ZQHF"
      }
    },
    {
      "cell_type": "code",
      "source": [
        "#type and id\n",
        "def f(x):\n",
        "  return x**2\n",
        "\n",
        "type(f)\n",
        "\n",
        "print(id(f)) #memory location"
      ],
      "metadata": {
        "colab": {
          "base_uri": "https://localhost:8080/"
        },
        "id": "kLL8mM-caSGm",
        "outputId": "aa759b18-d416-4a7b-90bb-e50f5f556a58"
      },
      "execution_count": null,
      "outputs": [
        {
          "output_type": "stream",
          "name": "stdout",
          "text": [
            "139683559766864\n"
          ]
        }
      ]
    },
    {
      "cell_type": "code",
      "source": [
        "#reassign\n",
        "x = f(2)\n",
        "print(x)\n",
        "\n"
      ],
      "metadata": {
        "colab": {
          "base_uri": "https://localhost:8080/"
        },
        "id": "7DQuqvZqaLu2",
        "outputId": "e895fdc1-5582-41cd-df92-a81dc66b1fbb"
      },
      "execution_count": null,
      "outputs": [
        {
          "output_type": "stream",
          "name": "stdout",
          "text": [
            "4\n"
          ]
        }
      ]
    },
    {
      "cell_type": "code",
      "source": [
        "x = f\n",
        "print(x)\n",
        "print(type(x))\n",
        "print(id(x)) # location same as f"
      ],
      "metadata": {
        "colab": {
          "base_uri": "https://localhost:8080/"
        },
        "id": "UgtzkqYfa-kc",
        "outputId": "3eaf336a-42c7-4a73-a451-ab9af63b5d09"
      },
      "execution_count": null,
      "outputs": [
        {
          "output_type": "stream",
          "name": "stdout",
          "text": [
            "<function f at 0x7f0a9cf5fb50>\n",
            "<class 'function'>\n",
            "139683559766864\n"
          ]
        }
      ]
    },
    {
      "cell_type": "code",
      "source": [
        "print(x(2))"
      ],
      "metadata": {
        "colab": {
          "base_uri": "https://localhost:8080/"
        },
        "id": "shD6zyvnbK_j",
        "outputId": "aa7c61af-fa17-4f71-80df-7de39fc62886"
      },
      "execution_count": null,
      "outputs": [
        {
          "output_type": "stream",
          "name": "stdout",
          "text": [
            "4\n"
          ]
        }
      ]
    },
    {
      "cell_type": "code",
      "source": [
        "#deleting a function\n",
        "del f"
      ],
      "metadata": {
        "id": "jZG3b0L2ZO4m"
      },
      "execution_count": null,
      "outputs": []
    },
    {
      "cell_type": "code",
      "source": [
        "f(3)"
      ],
      "metadata": {
        "id": "LIEihc5TbrbZ"
      },
      "execution_count": null,
      "outputs": []
    },
    {
      "cell_type": "code",
      "source": [
        "#storing\n",
        "L=[1,2,3,4,5,f]\n",
        "\n",
        "print(L)\n"
      ],
      "metadata": {
        "colab": {
          "base_uri": "https://localhost:8080/"
        },
        "id": "wYTgyu0ZbtPM",
        "outputId": "0aa812d3-6833-4c3d-990d-02f4e5b79d49"
      },
      "execution_count": null,
      "outputs": [
        {
          "output_type": "stream",
          "name": "stdout",
          "text": [
            "[1, 2, 3, 4, 5, <function f at 0x7f0a9cf5fb50>]\n"
          ]
        }
      ]
    },
    {
      "cell_type": "code",
      "source": [
        "L[-1](3)"
      ],
      "metadata": {
        "colab": {
          "base_uri": "https://localhost:8080/"
        },
        "id": "pkMP2JcHb6Uw",
        "outputId": "62bd1473-ba51-4d21-9d86-c02fbcf3d6e5"
      },
      "execution_count": null,
      "outputs": [
        {
          "output_type": "execute_result",
          "data": {
            "text/plain": [
              "9"
            ]
          },
          "metadata": {},
          "execution_count": 39
        }
      ]
    },
    {
      "cell_type": "code",
      "source": [
        "#FUNCTION MUTABLE OR IMMUTABLE ?\n",
        "S={1,2,3,4,5,f}\n",
        "#in set we can not store mutable datatype\n",
        "# if this print() execuit , then S is immutable\n",
        "print(S)\n"
      ],
      "metadata": {
        "id": "sLXxNUWQcFBv"
      },
      "execution_count": null,
      "outputs": []
    },
    {
      "cell_type": "code",
      "source": [
        "#a tricky code\n",
        "def f():\n",
        "  def x(a,b):\n",
        "    return a+b\n",
        "  return x\n",
        "\n",
        "\n",
        "val = f()(3,4)\n",
        "print (val)"
      ],
      "metadata": {
        "id": "va9KmQ79dFvQ"
      },
      "execution_count": null,
      "outputs": []
    },
    {
      "cell_type": "code",
      "source": [
        "def f():\n",
        "  def g():\n",
        "    print(\"inside g\")\n",
        "  print(\"inside f\")\n",
        "  return g;"
      ],
      "metadata": {
        "id": "pzdqR501do3e"
      },
      "execution_count": null,
      "outputs": []
    },
    {
      "cell_type": "code",
      "source": [
        "f()()"
      ],
      "metadata": {
        "colab": {
          "base_uri": "https://localhost:8080/"
        },
        "id": "E7G0wVAOd1Lp",
        "outputId": "c67c05cd-9dd4-4f52-9ff5-282adb425844"
      },
      "execution_count": null,
      "outputs": [
        {
          "output_type": "stream",
          "name": "stdout",
          "text": [
            "inside f\n",
            "inside g\n"
          ]
        }
      ]
    },
    {
      "cell_type": "code",
      "source": [
        "#function as argument\n",
        "def f_a():\n",
        "  print(\"inside f_a\")\n",
        "\n",
        "\n",
        "def f_b(z):\n",
        "  print(\"inside f_b\")\n",
        "  return z()\n",
        "\n",
        "\n",
        "x = f_b(f_a)\n",
        "print(x)"
      ],
      "metadata": {
        "colab": {
          "base_uri": "https://localhost:8080/"
        },
        "id": "vvXz2fcyeytM",
        "outputId": "ecbcaaab-f432-4b9a-96b6-c7757efafbf7"
      },
      "execution_count": null,
      "outputs": [
        {
          "output_type": "stream",
          "name": "stdout",
          "text": [
            "inside f_b\n",
            "inside f_a\n",
            "None\n"
          ]
        }
      ]
    },
    {
      "cell_type": "code",
      "source": [
        "def f_a():\n",
        "  print(\"inside f_a\")\n",
        "\n",
        "\n",
        "def f_b(z):\n",
        "  print(\"inside f_b\")\n",
        "  return z\n",
        "\n",
        "\n",
        "x = f_b(f_a)\n",
        "print(x)\n",
        "# x()"
      ],
      "metadata": {
        "colab": {
          "base_uri": "https://localhost:8080/"
        },
        "id": "duXwXtn5flD5",
        "outputId": "84ea596c-33bd-483f-fb24-62dba2f96014"
      },
      "execution_count": null,
      "outputs": [
        {
          "output_type": "stream",
          "name": "stdout",
          "text": [
            "inside f_b\n",
            "<function f_a at 0x7f0aaf4b2c20>\n",
            "inside f_a\n"
          ]
        }
      ]
    },
    {
      "cell_type": "markdown",
      "source": [
        "#Benefits of using a Function\n",
        " ##+code modularity\n",
        " ##+code readibility\n",
        " ##+code Resuability"
      ],
      "metadata": {
        "id": "xizIJJHvf9tt"
      }
    },
    {
      "cell_type": "markdown",
      "source": [
        "#Lambda Functions\n",
        "##A lambda function is a small anonymous(no name) function\n",
        "##A lambda function can take any number of argument but can only have one expression\n",
        "[image](https://miro.medium.com/v2/resize:fit:1200/0*4eRr7IZ3sP2ZAE8H.png)\n",
        "\n",
        "\n"
      ],
      "metadata": {
        "id": "tKZxGdkuhAdt"
      }
    },
    {
      "cell_type": "code",
      "source": [
        "# x -> x^2\n",
        "a=lambda x: x**2\n",
        "a(2)\n"
      ],
      "metadata": {
        "colab": {
          "base_uri": "https://localhost:8080/"
        },
        "id": "vZnKNyxUiBhY",
        "outputId": "1ebf8e27-e52d-49a8-be57-dd9c11605e4f"
      },
      "execution_count": null,
      "outputs": [
        {
          "output_type": "execute_result",
          "data": {
            "text/plain": [
              "4"
            ]
          },
          "metadata": {},
          "execution_count": 49
        }
      ]
    },
    {
      "cell_type": "code",
      "source": [
        "# x,y -> x+y\n",
        "a = lambda x,y: x+y\n",
        "c = a(5,2)\n",
        "print(c)"
      ],
      "metadata": {
        "colab": {
          "base_uri": "https://localhost:8080/"
        },
        "id": "BhYPBj2Ke42S",
        "outputId": "f5c5eacc-6790-45c9-c01a-65482cd29680"
      },
      "execution_count": null,
      "outputs": [
        {
          "output_type": "stream",
          "name": "stdout",
          "text": [
            "7\n"
          ]
        }
      ]
    },
    {
      "cell_type": "markdown",
      "source": [
        "Differance between lambda vs Normal Function\n",
        "\n",
        "\n",
        "*   No name\n",
        "*   lambda has no return value (infact , returns a function)\n",
        "\n",
        "\n",
        "*   is written in 1 line\n",
        "*   not reusable\n",
        "\n",
        "###They are used with HOF(Higher order functions)\n",
        "\n",
        "\n"
      ],
      "metadata": {
        "id": "7NQ-WOK1ii4I"
      }
    },
    {
      "cell_type": "code",
      "source": [
        "#check if a string has 'a'\n",
        "a = lambda s:'a' in s\n",
        "\n",
        "a (\"hello\")"
      ],
      "metadata": {
        "colab": {
          "base_uri": "https://localhost:8080/"
        },
        "id": "2YwmKlzujTPD",
        "outputId": "6998e374-9475-4633-f163-9a01eddfe623"
      },
      "execution_count": null,
      "outputs": [
        {
          "output_type": "execute_result",
          "data": {
            "text/plain": [
              "False"
            ]
          },
          "metadata": {},
          "execution_count": 51
        }
      ]
    },
    {
      "cell_type": "code",
      "source": [
        "#odd or even\n",
        "a = lambda x: \"odd\" if x%2 else \"even\"\n",
        "a(3)"
      ],
      "metadata": {
        "colab": {
          "base_uri": "https://localhost:8080/",
          "height": 35
        },
        "id": "3MjGo-Rpje_5",
        "outputId": "a99ad23c-cc95-4f7f-90ae-a241ea7d464f"
      },
      "execution_count": null,
      "outputs": [
        {
          "output_type": "execute_result",
          "data": {
            "text/plain": [
              "'odd'"
            ],
            "application/vnd.google.colaboratory.intrinsic+json": {
              "type": "string"
            }
          },
          "metadata": {},
          "execution_count": 52
        }
      ]
    },
    {
      "cell_type": "markdown",
      "source": [
        "#higher Order Functions"
      ],
      "metadata": {
        "id": "v2pmShtaj_S8"
      }
    },
    {
      "cell_type": "markdown",
      "source": [
        "#####A function which return other function\n",
        "#####A function which recieve other function"
      ],
      "metadata": {
        "id": "nBHxuSqGkG4e"
      }
    },
    {
      "cell_type": "code",
      "source": [
        "#Question\n",
        "#if we have a list , then we have to return a list which has square of item\n",
        "# which is in the given list\n",
        "# given list = [1,2,3,4,5]\n",
        "# output = [1,4,9,16,25]\n",
        "\n",
        "\n",
        "def square (x):\n",
        "  return x**2\n",
        "\n",
        "\n",
        "\n",
        "\n",
        "#transform a higher oder function\n",
        "#reason it accept a fuction\n",
        "def transform (f,L):\n",
        "  output =[]\n",
        "  for x in L:\n",
        "    output.append(f(x))\n",
        "  return output\n",
        "\n",
        "L = [1,2,3,4,5]\n",
        "print(transform(square,L))\n",
        "\n",
        "\n",
        "\n",
        "# do using lambda\n",
        "print(transform(lambda x: x**2,L))"
      ],
      "metadata": {
        "colab": {
          "base_uri": "https://localhost:8080/"
        },
        "id": "joetjGIHkY9P",
        "outputId": "06756f59-7e29-4bae-ce2a-4199f94a3ee3"
      },
      "execution_count": null,
      "outputs": [
        {
          "output_type": "stream",
          "name": "stdout",
          "text": [
            "[1, 4, 9, 16, 25]\n",
            "[1, 4, 9, 16, 25]\n"
          ]
        }
      ]
    },
    {
      "cell_type": "markdown",
      "source": [
        "#Map\n",
        "####it expect a lambda ,  iterable a list\n",
        "#### and we perform a logic in a list"
      ],
      "metadata": {
        "id": "BAahodmUmC6F"
      }
    },
    {
      "cell_type": "code",
      "source": [
        "#square the items of a list\n",
        "\n",
        "# map(lambda x:x**2,[1,2,3,4,5]) # this portion return a map object\n",
        "\n",
        "\n",
        "# now we can convert it to list\n",
        "x=list(map(lambda x:x**2,[1,2,3,4,5]))\n",
        "x"
      ],
      "metadata": {
        "colab": {
          "base_uri": "https://localhost:8080/"
        },
        "id": "z97uhRsJmpNN",
        "outputId": "674e6edd-9661-44b1-fc47-eb8bae002cd8"
      },
      "execution_count": null,
      "outputs": [
        {
          "output_type": "execute_result",
          "data": {
            "text/plain": [
              "[1, 4, 9, 16, 25]"
            ]
          },
          "metadata": {},
          "execution_count": 57
        }
      ]
    },
    {
      "cell_type": "code",
      "source": [
        "\n",
        "# odd / even labelling of list items\n",
        "\n",
        "\n",
        "list(map(lambda x : 'even' if x%2==0  else 'odd' , [1,2,3,4,5]))"
      ],
      "metadata": {
        "id": "xSYMdNdYmEJx"
      },
      "execution_count": null,
      "outputs": []
    },
    {
      "cell_type": "code",
      "source": [
        "#fetch names from a list of dict\n",
        "\n",
        "\n",
        "users=[\n",
        "    {\n",
        "        \"name\":'Rahul',\n",
        "        'age':45,\n",
        "        'gender':'male'\n",
        "    },\n",
        "     {\n",
        "        \"name\":'rakib',\n",
        "        'age':45,\n",
        "        'gender':'male'\n",
        "    },\n",
        "     {\n",
        "        \"name\":'hasan',\n",
        "        'age':45,\n",
        "        'gender':'male'\n",
        "    },\n",
        "\n",
        "]\n",
        "\n",
        "\n",
        "list(map(lambda x:x['name'] ,users))"
      ],
      "metadata": {
        "colab": {
          "base_uri": "https://localhost:8080/"
        },
        "id": "glejPOXKn_oa",
        "outputId": "1a71939b-1618-4708-cb4c-9fd9150f7389"
      },
      "execution_count": null,
      "outputs": [
        {
          "output_type": "execute_result",
          "data": {
            "text/plain": [
              "['Rahul', 'rakib', 'hasan']"
            ]
          },
          "metadata": {},
          "execution_count": 58
        }
      ]
    },
    {
      "cell_type": "markdown",
      "source": [
        "####Filter"
      ],
      "metadata": {
        "id": "Q5WvUAUvkFC2"
      }
    },
    {
      "cell_type": "code",
      "source": [
        "# number greater than 5\n",
        "\n",
        "L= [1,2,3,4,5,6,7,8,9,10]\n",
        "\n",
        "\n",
        "#for those element , which return true\n",
        "list(filter(lambda x:x>5, L ))\n"
      ],
      "metadata": {
        "colab": {
          "base_uri": "https://localhost:8080/"
        },
        "id": "U3Xx8wq-oz3G",
        "outputId": "a87c288b-411b-460b-f1d0-f45c8907c513"
      },
      "execution_count": null,
      "outputs": [
        {
          "output_type": "execute_result",
          "data": {
            "text/plain": [
              "[6, 7, 8, 9, 10]"
            ]
          },
          "metadata": {},
          "execution_count": 60
        }
      ]
    },
    {
      "cell_type": "code",
      "source": [
        "#fetch fruites starting with 'a'\n",
        "\n",
        "\n",
        "fruits=[\"apple\", \"guava\",\"cherry\"]\n",
        "\n",
        "\n",
        "# list(filter(lambda x:x[0]=='a',fruits))\n",
        "list(filter(lambda x:x.startswith('a'),fruits))\n"
      ],
      "metadata": {
        "colab": {
          "base_uri": "https://localhost:8080/"
        },
        "id": "V02dQnfYpjLR",
        "outputId": "756c3af8-5643-4a3c-f611-a3a385df5829"
      },
      "execution_count": null,
      "outputs": [
        {
          "output_type": "execute_result",
          "data": {
            "text/plain": [
              "['apple']"
            ]
          },
          "metadata": {},
          "execution_count": 62
        }
      ]
    },
    {
      "cell_type": "markdown",
      "source": [
        "#Reduce"
      ],
      "metadata": {
        "id": "aGxRim5mp75X"
      }
    },
    {
      "cell_type": "code",
      "source": [
        "#sum of all item\n",
        "import functools\n",
        "L = [1,2,3,4,5]\n",
        "\n",
        "\n",
        "#it takes two element from list at once\n",
        "# it return a single value after the opertions\n",
        "functools.reduce(lambda x,y:x+y,L)\n",
        "\n",
        "\n",
        "#  1 2 3 4 5\n",
        "#  3 3 4 5\n",
        "#  6 4 5\n",
        "#  10 5\n",
        "#  15\n"
      ],
      "metadata": {
        "colab": {
          "base_uri": "https://localhost:8080/"
        },
        "id": "wTXWbVejp9Oj",
        "outputId": "51921e65-ab8e-4875-92fc-df33f9a6669e"
      },
      "execution_count": null,
      "outputs": [
        {
          "output_type": "execute_result",
          "data": {
            "text/plain": [
              "15"
            ]
          },
          "metadata": {},
          "execution_count": 63
        }
      ]
    },
    {
      "cell_type": "code",
      "source": [
        "L = [43,2,9,4,5]\n",
        "\n",
        "\n",
        "functools.reduce(lambda x,y:x if x<=y else y,L)"
      ],
      "metadata": {
        "colab": {
          "base_uri": "https://localhost:8080/"
        },
        "id": "Jvbe1eouqdy8",
        "outputId": "d022686e-6708-4799-a7fd-1794f7fedde1"
      },
      "execution_count": null,
      "outputs": [
        {
          "output_type": "execute_result",
          "data": {
            "text/plain": [
              "2"
            ]
          },
          "metadata": {},
          "execution_count": 65
        }
      ]
    }
  ]
}