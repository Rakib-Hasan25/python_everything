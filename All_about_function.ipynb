{
  "nbformat": 4,
  "nbformat_minor": 0,
  "metadata": {
    "colab": {
      "provenance": [],
      "authorship_tag": "ABX9TyNNta+6K2ZHv2QMWtl1lDdH",
      "include_colab_link": true
    },
    "kernelspec": {
      "name": "python3",
      "display_name": "Python 3"
    },
    "language_info": {
      "name": "python"
    }
  },
  "cells": [
    {
      "cell_type": "markdown",
      "metadata": {
        "id": "view-in-github",
        "colab_type": "text"
      },
      "source": [
        "<a href=\"https://colab.research.google.com/github/Rakib-Hasan25/python_everything/blob/main/All_about_function.ipynb\" target=\"_parent\"><img src=\"https://colab.research.google.com/assets/colab-badge.svg\" alt=\"Open In Colab\"/></a>"
      ]
    },
    {
      "cell_type": "code",
      "execution_count": 3,
      "metadata": {
        "id": "hWVwsGTEOJ68"
      },
      "outputs": [],
      "source": [
        "def is_even(num):\n",
        "\n",
        "  #def is keyword\n",
        "  \"\"\"\n",
        "    it is a function of check even\n",
        "  \"\"\"\n",
        "  #upper things is docs of function\n",
        "  if type(num)==int:\n",
        "    if(num%2)==0:\n",
        "      return 'even'\n",
        "    else:\n",
        "      return 'odd'\n",
        "  else:\n",
        "    return \"what are you doing bro\""
      ]
    },
    {
      "cell_type": "code",
      "source": [
        "is_even(2)\n",
        "print(is_even.__doc__) # to see the is_even function whole docs\n"
      ],
      "metadata": {
        "colab": {
          "base_uri": "https://localhost:8080/"
        },
        "id": "w7mUf8h3O3Oz",
        "outputId": "28fc99cc-6d5f-4a74-afe8-8cc412256b0a"
      },
      "execution_count": 8,
      "outputs": [
        {
          "output_type": "stream",
          "name": "stdout",
          "text": [
            "\n",
            "    it is a function of check even\n",
            "  \n"
          ]
        }
      ]
    },
    {
      "cell_type": "markdown",
      "source": [
        "#argument\n",
        "##default\n",
        "##positional\n",
        "##keyword"
      ],
      "metadata": {
        "id": "OF0IbeEWP7ka"
      }
    },
    {
      "cell_type": "code",
      "source": [
        "def power(a=1,b=1):\n",
        "  return a**b"
      ],
      "metadata": {
        "id": "5JijuVY1QDsy"
      },
      "execution_count": null,
      "outputs": []
    },
    {
      "cell_type": "code",
      "source": [
        "power()# if no perameter then no problem\n",
        "\n",
        "\n",
        "#positional\n",
        "power(1,3)\n",
        "\n",
        "\n",
        "#keyword\n",
        "\n",
        "power(b=3,a=2)"
      ],
      "metadata": {
        "id": "OHYtTq7jQTwh"
      },
      "execution_count": null,
      "outputs": []
    },
    {
      "cell_type": "markdown",
      "source": [
        "# **args and **kwargs"
      ],
      "metadata": {
        "id": "SEM1dRyVQtDh"
      }
    },
    {
      "cell_type": "code",
      "source": [
        "#*args\n",
        "\n",
        "def multi(*args):\n",
        "  for i in args:\n",
        "    print(i)\n",
        "\n",
        "# (*anything) create no proble\n",
        "\n",
        "\n",
        "\n",
        "\n",
        "#**kwrargs\n",
        "\n",
        "#we can pass any number of key, value pair\n",
        "\n",
        "\n",
        "def of (**rakib):\n",
        "  for (key,value) in rakib.items():\n",
        "    print(key,value)\n",
        "\n"
      ],
      "metadata": {
        "id": "dnVTHGm6QyIw"
      },
      "execution_count": 17,
      "outputs": []
    },
    {
      "cell_type": "code",
      "source": [
        "multi(1,2,3,5) # can pass multiple value\n",
        "#we pass the value as tuple\n",
        "\n",
        "of(hi='hi', ji=2, nep='fdf')\n"
      ],
      "metadata": {
        "colab": {
          "base_uri": "https://localhost:8080/"
        },
        "id": "j22tJYCHSFkC",
        "outputId": "fb3f9d0a-2fa8-45b4-b2ac-0662de6a5f4a"
      },
      "execution_count": 18,
      "outputs": [
        {
          "output_type": "stream",
          "name": "stdout",
          "text": [
            "1\n",
            "2\n",
            "3\n",
            "5\n",
            "hi hi\n",
            "ji 2\n",
            "nep fdf\n"
          ]
        }
      ]
    },
    {
      "cell_type": "code",
      "source": [
        "#scope\n",
        "\n",
        "def f(y):\n",
        "  x=1\n",
        "  x+=1\n",
        "x=1\n",
        "f(x)\n",
        "print(x)\n",
        "\n",
        "# we pass copy of x , not actual x"
      ],
      "metadata": {
        "colab": {
          "base_uri": "https://localhost:8080/"
        },
        "id": "ibwzryLGT6Y3",
        "outputId": "97607bb2-c58c-44e2-bf52-3d26592a86d9"
      },
      "execution_count": 19,
      "outputs": [
        {
          "output_type": "stream",
          "name": "stdout",
          "text": [
            "1\n"
          ]
        }
      ]
    },
    {
      "cell_type": "code",
      "source": [
        "def f(y):\n",
        "  global x\n",
        "  x=1\n",
        "  x+=1\n",
        "x=1\n",
        "f(x)\n",
        "print(x)\n",
        "# now this x is global"
      ],
      "metadata": {
        "colab": {
          "base_uri": "https://localhost:8080/"
        },
        "id": "6KJP-cF6UUS-",
        "outputId": "93064fa2-ef97-4c36-b8ef-d9dc1512880b"
      },
      "execution_count": 20,
      "outputs": [
        {
          "output_type": "stream",
          "name": "stdout",
          "text": [
            "2\n"
          ]
        }
      ]
    }
  ]
}