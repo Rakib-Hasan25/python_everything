{
  "nbformat": 4,
  "nbformat_minor": 0,
  "metadata": {
    "colab": {
      "provenance": [],
      "authorship_tag": "ABX9TyOcw6oH2phFQbSAxGgCDhW2",
      "include_colab_link": true
    },
    "kernelspec": {
      "name": "python3",
      "display_name": "Python 3"
    },
    "language_info": {
      "name": "python"
    }
  },
  "cells": [
    {
      "cell_type": "markdown",
      "metadata": {
        "id": "view-in-github",
        "colab_type": "text"
      },
      "source": [
        "<a href=\"https://colab.research.google.com/github/Rakib-Hasan25/python_everything/blob/main/numpy_fundamental.ipynb\" target=\"_parent\"><img src=\"https://colab.research.google.com/assets/colab-badge.svg\" alt=\"Open In Colab\"/></a>"
      ]
    },
    {
      "cell_type": "markdown",
      "source": [
        "#what is numpy?\n",
        "NumPy is the fundamental package for scientific computing in python,\n",
        "it provide numPy array object and various derieved objcts(such as masked array and matrices) .....\n",
        "operation -> mathematical , logical , shape manipulation , sorting , selecting , I/0 , discrete Fourier transforms ,  basic linear algebra, basic statistical , random simpulation and much more\n",
        "\n",
        "\n",
        "##Python is consider to be very slow and its list and dictionary also\n",
        "numpy array was made by c and crete a wrapper for using python , and array became faster  ,,, and capable of doing data science type jobs\n",
        "\n",
        "\n",
        "\n",
        "##Difference\n",
        "###-numpy array have a fixed size at creation ... changing the size of an nd array will create a new array and delete the original\n",
        "###the element in a numpy are all required to be the same data type, and thus will be the same size in memory\n",
        "###can perform difficult mathmatical operation\n",
        "### most famous library ( panda, seaborn, etc ) use numpy array\n",
        "\n",
        "\n",
        "\n",
        "\n"
      ],
      "metadata": {
        "id": "yhgKn330U-29"
      }
    },
    {
      "cell_type": "markdown",
      "source": [
        "#Creating a numpy array"
      ],
      "metadata": {
        "id": "2Qx6DhKaYqgM"
      }
    },
    {
      "cell_type": "code",
      "source": [
        "import numpy as np\n",
        "\n",
        "a = np.array([1,2,3])\n",
        "print(a);\n",
        "print(type(a))"
      ],
      "metadata": {
        "colab": {
          "base_uri": "https://localhost:8080/"
        },
        "id": "5114fo1-Yt37",
        "outputId": "8247d2a1-e75f-4c5a-b516-6e4c462bf048"
      },
      "execution_count": 1,
      "outputs": [
        {
          "output_type": "stream",
          "name": "stdout",
          "text": [
            "[1 2 3]\n",
            "<class 'numpy.ndarray'>\n"
          ]
        }
      ]
    },
    {
      "cell_type": "code",
      "source": [
        "#2D and 3D\n",
        "\n",
        "b = np.array ([[1,2,4],[4,5,6]])\n",
        "print(b)\n",
        "\n",
        "print()\n",
        "\n",
        "c = np.array(\n",
        "    [\n",
        "        [\n",
        "        [1,3],[3,4]\n",
        "        ],\n",
        "         [\n",
        "             [1,2], [2,33]\n",
        "          ]\n",
        "        ]\n",
        "    )\n",
        "\n",
        "print(c)\n",
        "\n",
        "\n",
        "# you can create any D"
      ],
      "metadata": {
        "colab": {
          "base_uri": "https://localhost:8080/"
        },
        "id": "p6uBEYotZCD7",
        "outputId": "2a591704-13ae-4281-b536-cbe3769b3444"
      },
      "execution_count": 4,
      "outputs": [
        {
          "output_type": "stream",
          "name": "stdout",
          "text": [
            "[[1 2 4]\n",
            " [4 5 6]]\n",
            "\n",
            "[[[ 1  3]\n",
            "  [ 3  4]]\n",
            "\n",
            " [[ 1  2]\n",
            "  [ 2 33]]]\n"
          ]
        }
      ]
    },
    {
      "cell_type": "code",
      "source": [
        "#dtype\n",
        "np.array([1,2,3],dtype=float)\n"
      ],
      "metadata": {
        "colab": {
          "base_uri": "https://localhost:8080/"
        },
        "id": "grB8V7fNaP8V",
        "outputId": "d8ba932e-793c-4c91-c3d3-e5ca70e8d1d8"
      },
      "execution_count": 5,
      "outputs": [
        {
          "output_type": "execute_result",
          "data": {
            "text/plain": [
              "array([1., 2., 3.])"
            ]
          },
          "metadata": {},
          "execution_count": 5
        }
      ]
    },
    {
      "cell_type": "code",
      "source": [
        "np.array([1,2,3],dtype=bool)"
      ],
      "metadata": {
        "colab": {
          "base_uri": "https://localhost:8080/"
        },
        "id": "lAdS6JEFacTM",
        "outputId": "58843cd2-874f-4687-da9e-39a9f44cea83"
      },
      "execution_count": 6,
      "outputs": [
        {
          "output_type": "execute_result",
          "data": {
            "text/plain": [
              "array([ True,  True,  True])"
            ]
          },
          "metadata": {},
          "execution_count": 6
        }
      ]
    },
    {
      "cell_type": "code",
      "source": [
        "#np.arange\n",
        "\n",
        "a =np.arange(1,11)\n",
        "print(a)\n",
        "\n",
        "b= np.arange(1,15,2)\n",
        "print(b)\n",
        "\n",
        "c =np.arange(10,1,-1)\n",
        "print(c)"
      ],
      "metadata": {
        "colab": {
          "base_uri": "https://localhost:8080/"
        },
        "id": "T8rCTeGNanFr",
        "outputId": "9bf09e71-409a-4cbb-faef-eec9bf0e016b"
      },
      "execution_count": 13,
      "outputs": [
        {
          "output_type": "stream",
          "name": "stdout",
          "text": [
            "[ 1  2  3  4  5  6  7  8  9 10]\n",
            "[ 1  3  5  7  9 11 13]\n",
            "[10  9  8  7  6  5  4  3  2]\n"
          ]
        }
      ]
    },
    {
      "cell_type": "code",
      "source": [
        "#with reshape\n",
        "\n",
        "np.arange(1,11).reshape(5,2)# it will make 1 to 10 number in 5 row and 2 column shape\n",
        "\n",
        "# reshape value 5*2 should equal to np.arange(1,11) total number means 5*2==(11-1)\n",
        "\n",
        "\n",
        "#np.arange(1,10).reshape(5,2) #give error\n"
      ],
      "metadata": {
        "colab": {
          "base_uri": "https://localhost:8080/"
        },
        "id": "ZiJ_tM7gbPVS",
        "outputId": "bf8995d8-ab64-4ea9-acbd-1bc9fe0dfb4f"
      },
      "execution_count": 17,
      "outputs": [
        {
          "output_type": "execute_result",
          "data": {
            "text/plain": [
              "array([[ 1,  2],\n",
              "       [ 3,  4],\n",
              "       [ 5,  6],\n",
              "       [ 7,  8],\n",
              "       [ 9, 10]])"
            ]
          },
          "metadata": {},
          "execution_count": 17
        }
      ]
    },
    {
      "cell_type": "code",
      "source": [
        "#np.ones\n",
        "\n",
        "a=np.ones((3,4)) # 3 row and 4 column array initialize with ones\n",
        "print(a)\n",
        "\n",
        "print()\n",
        "b= np.ones((2,2),dtype=int)\n",
        "print(b)"
      ],
      "metadata": {
        "colab": {
          "base_uri": "https://localhost:8080/"
        },
        "id": "xQWDtGvWcQfR",
        "outputId": "4b8145ca-31aa-496d-b5a4-7c8d035ce744"
      },
      "execution_count": 21,
      "outputs": [
        {
          "output_type": "stream",
          "name": "stdout",
          "text": [
            "[[1. 1. 1. 1.]\n",
            " [1. 1. 1. 1.]\n",
            " [1. 1. 1. 1.]]\n",
            "\n",
            "[[1 1]\n",
            " [1 1]]\n"
          ]
        }
      ]
    },
    {
      "cell_type": "code",
      "source": [
        "#np.zeros\n",
        "np.zeros((2,2))"
      ],
      "metadata": {
        "colab": {
          "base_uri": "https://localhost:8080/"
        },
        "id": "sMf5mKgoc8k6",
        "outputId": "e5e35c8a-26aa-46ac-91fd-f599d96264d0"
      },
      "execution_count": 23,
      "outputs": [
        {
          "output_type": "execute_result",
          "data": {
            "text/plain": [
              "array([[0., 0.],\n",
              "       [0., 0.]])"
            ]
          },
          "metadata": {},
          "execution_count": 23
        }
      ]
    },
    {
      "cell_type": "code",
      "source": [
        "#np.random\n",
        "\n",
        "a = np.random.random((3,4)) # give random number between 3 to 4\n",
        "print(a)\n"
      ],
      "metadata": {
        "colab": {
          "base_uri": "https://localhost:8080/"
        },
        "id": "cwSjIt4WdEQW",
        "outputId": "c51f4333-fe54-476e-ed5a-e4cf76dad4af"
      },
      "execution_count": 25,
      "outputs": [
        {
          "output_type": "stream",
          "name": "stdout",
          "text": [
            "[[0.49901532 0.24784531 0.11593062 0.41729303]\n",
            " [0.81911411 0.2180329  0.05552682 0.40668868]\n",
            " [0.15954921 0.15835563 0.57147201 0.34229837]]\n"
          ]
        }
      ]
    },
    {
      "cell_type": "code",
      "source": [
        "#np.linspace\n",
        "\n",
        "a= np.linspace(-10,10, 10 )   # np.linspace(\"lower range\",\"upper range\", \"number of items\") and each number is equally distanced\n",
        "print(a)\n",
        "\n",
        "print()\n",
        "\n",
        "b= np.linspace(-10,10,10,dtype=int)\n",
        "print(b)\n",
        "\n"
      ],
      "metadata": {
        "colab": {
          "base_uri": "https://localhost:8080/"
        },
        "id": "JoIxF5WIdY1x",
        "outputId": "709b1351-4a43-48b8-fd7a-ae4865baff86"
      },
      "execution_count": 33,
      "outputs": [
        {
          "output_type": "stream",
          "name": "stdout",
          "text": [
            "[-10.          -7.77777778  -5.55555556  -3.33333333  -1.11111111\n",
            "   1.11111111   3.33333333   5.55555556   7.77777778  10.        ]\n",
            "\n",
            "[-10  -8  -6  -4  -2   1   3   5   7  10]\n"
          ]
        }
      ]
    },
    {
      "cell_type": "code",
      "source": [
        "#np.identity\n",
        "np.identity(3,dtype=int)\n",
        "# make 3*3 identity matrix"
      ],
      "metadata": {
        "colab": {
          "base_uri": "https://localhost:8080/"
        },
        "id": "X4LmC_nIfY2X",
        "outputId": "c1bf8502-be77-428d-a1ed-a997463f642e"
      },
      "execution_count": 35,
      "outputs": [
        {
          "output_type": "execute_result",
          "data": {
            "text/plain": [
              "array([[1, 0, 0],\n",
              "       [0, 1, 0],\n",
              "       [0, 0, 1]])"
            ]
          },
          "metadata": {},
          "execution_count": 35
        }
      ]
    },
    {
      "cell_type": "markdown",
      "source": [
        "#Array attribute"
      ],
      "metadata": {
        "id": "a_NLu7P4f3eh"
      }
    },
    {
      "cell_type": "code",
      "source": [
        "a1=np.arange(10)\n",
        "print(a1,)\n",
        "print()\n",
        "a2=np.arange(12).reshape(3,4)\n",
        "print(a2,)\n",
        "print()\n",
        "a3 = np.arange(8).reshape(2,2,2)\n",
        "print(a3,)\n",
        "print()"
      ],
      "metadata": {
        "colab": {
          "base_uri": "https://localhost:8080/"
        },
        "id": "p7tDSus7f9BD",
        "outputId": "74506d49-9e23-42c6-da2d-46bdaadcd149"
      },
      "execution_count": 41,
      "outputs": [
        {
          "output_type": "stream",
          "name": "stdout",
          "text": [
            "[0 1 2 3 4 5 6 7 8 9]\n",
            "\n",
            "[[ 0  1  2  3]\n",
            " [ 4  5  6  7]\n",
            " [ 8  9 10 11]]\n",
            "\n",
            "[[[0 1]\n",
            "  [2 3]]\n",
            "\n",
            " [[4 5]\n",
            "  [6 7]]]\n",
            "\n"
          ]
        }
      ]
    },
    {
      "cell_type": "code",
      "source": [
        "#ndim\n",
        "#give dimension of the array\n",
        "print(a1.ndim)\n",
        "print(a2.ndim)\n",
        "print(a3.ndim)\n"
      ],
      "metadata": {
        "colab": {
          "base_uri": "https://localhost:8080/"
        },
        "id": "7HP2_BtmgkCK",
        "outputId": "d812379c-1fe0-4a01-feee-716e757c239b"
      },
      "execution_count": 38,
      "outputs": [
        {
          "output_type": "stream",
          "name": "stdout",
          "text": [
            "1\n",
            "2\n",
            "3\n"
          ]
        }
      ]
    },
    {
      "cell_type": "code",
      "source": [
        "#shape\n",
        "\n",
        "print(a1.shape)#how many element in every dimension\n",
        "print(a2.shape)\n",
        "print(a3.shape)\n",
        "\n",
        "\n",
        "#in 3D(2,2,2) here first 2 says how many 2D array in this 3D array\n",
        "# and the 2nd 2 is says how many 1D array in this 2D array\n",
        "# and the last 2 says , how many item in this 1D array"
      ],
      "metadata": {
        "colab": {
          "base_uri": "https://localhost:8080/"
        },
        "id": "YrBJHteIg668",
        "outputId": "ada01594-dd1e-4a3e-b802-cd8ce74d1c19"
      },
      "execution_count": 42,
      "outputs": [
        {
          "output_type": "stream",
          "name": "stdout",
          "text": [
            "(10,)\n",
            "(3, 4)\n",
            "(2, 2, 2)\n"
          ]
        }
      ]
    },
    {
      "cell_type": "code",
      "source": [
        "#size\n",
        "# it give any array total number of element\n",
        "\n",
        "print(a3.size)\n"
      ],
      "metadata": {
        "colab": {
          "base_uri": "https://localhost:8080/"
        },
        "id": "kb63r96jidqN",
        "outputId": "6d5261d6-b65f-4b64-ae0f-a3f6c94ac3e7"
      },
      "execution_count": 43,
      "outputs": [
        {
          "output_type": "stream",
          "name": "stdout",
          "text": [
            "8\n"
          ]
        }
      ]
    },
    {
      "cell_type": "code",
      "source": [
        "#itemsize\n",
        "a1.itemsize\n",
        "\n",
        "\n",
        "a1=np.arange(10, dtype=np.int32)\n",
        "#32 bit integar take 4 byte\n",
        "print(a1.itemsize)\n",
        "# it give each array element accupy size in memory"
      ],
      "metadata": {
        "colab": {
          "base_uri": "https://localhost:8080/"
        },
        "id": "6d4rOHsvisRn",
        "outputId": "a6afc4c4-fadf-446d-822e-35f2d054f571"
      },
      "execution_count": 46,
      "outputs": [
        {
          "output_type": "stream",
          "name": "stdout",
          "text": [
            "4\n"
          ]
        }
      ]
    },
    {
      "cell_type": "code",
      "source": [
        "#dtype\n",
        "print(a1.dtype)\n",
        "print(a2.dtype)"
      ],
      "metadata": {
        "colab": {
          "base_uri": "https://localhost:8080/"
        },
        "id": "ejiiM9obykvl",
        "outputId": "31f2fac0-79d1-4608-efa4-075ea86ddb06"
      },
      "execution_count": 47,
      "outputs": [
        {
          "output_type": "stream",
          "name": "stdout",
          "text": [
            "int32\n",
            "int64\n"
          ]
        }
      ]
    },
    {
      "cell_type": "markdown",
      "source": [
        "#changing Datatype\n"
      ],
      "metadata": {
        "id": "k_tFmvO0zJz8"
      }
    },
    {
      "cell_type": "code",
      "source": [
        "#astype\n",
        "#by using it we can change datatype of an exsisting array\n",
        "#by default int data type  in int64\n",
        "#now we change it as int32\n",
        "a3.astype(np.int32)"
      ],
      "metadata": {
        "colab": {
          "base_uri": "https://localhost:8080/"
        },
        "id": "4aFiey5qzM2N",
        "outputId": "a7e37b5b-3d13-449e-957c-683e7a033ca1"
      },
      "execution_count": 48,
      "outputs": [
        {
          "output_type": "execute_result",
          "data": {
            "text/plain": [
              "array([[[0, 1],\n",
              "        [2, 3]],\n",
              "\n",
              "       [[4, 5],\n",
              "        [6, 7]]], dtype=int32)"
            ]
          },
          "metadata": {},
          "execution_count": 48
        }
      ]
    },
    {
      "cell_type": "code",
      "source": [
        "print(a3)"
      ],
      "metadata": {
        "colab": {
          "base_uri": "https://localhost:8080/"
        },
        "id": "tXbvvTM3z2m9",
        "outputId": "d5657de7-df09-4b88-b52c-912c99520dbc"
      },
      "execution_count": 49,
      "outputs": [
        {
          "output_type": "stream",
          "name": "stdout",
          "text": [
            "[[[0 1]\n",
            "  [2 3]]\n",
            "\n",
            " [[4 5]\n",
            "  [6 7]]]\n"
          ]
        }
      ]
    },
    {
      "cell_type": "markdown",
      "source": [
        "why we need these , suppose age is given in a list in float data type , but we don't need that , we can change it\n",
        "### we can optimize memory consumption\n"
      ],
      "metadata": {
        "id": "YNwljMd90ElO"
      }
    },
    {
      "cell_type": "markdown",
      "source": [
        "#array operations\n"
      ],
      "metadata": {
        "id": "WVY0JWGQ00Sn"
      }
    },
    {
      "cell_type": "code",
      "source": [
        "a1 = np.arange(12).reshape(3,4)\n",
        "a2= np.arange(12,24).reshape(3,4)\n",
        "\n",
        "\n",
        "a1\n",
        "\n"
      ],
      "metadata": {
        "colab": {
          "base_uri": "https://localhost:8080/"
        },
        "id": "xCQdcEI_087F",
        "outputId": "52b3899f-90ed-4eb5-9e61-c80caa1266b3"
      },
      "execution_count": 51,
      "outputs": [
        {
          "output_type": "execute_result",
          "data": {
            "text/plain": [
              "array([[ 0,  1,  2,  3],\n",
              "       [ 4,  5,  6,  7],\n",
              "       [ 8,  9, 10, 11]])"
            ]
          },
          "metadata": {},
          "execution_count": 51
        }
      ]
    },
    {
      "cell_type": "code",
      "source": [
        "#scalar operations\n",
        "#perform arithmatic operations for every element of matrix (+, - ,* , / ,%)\n",
        "a1*3\n"
      ],
      "metadata": {
        "colab": {
          "base_uri": "https://localhost:8080/"
        },
        "id": "kJferYBM023n",
        "outputId": "0c202fb6-17d7-4db6-b528-1296833e78f0"
      },
      "execution_count": 52,
      "outputs": [
        {
          "output_type": "execute_result",
          "data": {
            "text/plain": [
              "array([[ 0,  3,  6,  9],\n",
              "       [12, 15, 18, 21],\n",
              "       [24, 27, 30, 33]])"
            ]
          },
          "metadata": {},
          "execution_count": 52
        }
      ]
    },
    {
      "cell_type": "code",
      "source": [
        "a1+2"
      ],
      "metadata": {
        "colab": {
          "base_uri": "https://localhost:8080/"
        },
        "id": "FbY9B4K_1cMu",
        "outputId": "f1a88124-f043-48f6-f228-74577238d6a6"
      },
      "execution_count": 53,
      "outputs": [
        {
          "output_type": "execute_result",
          "data": {
            "text/plain": [
              "array([[ 2,  3,  4,  5],\n",
              "       [ 6,  7,  8,  9],\n",
              "       [10, 11, 12, 13]])"
            ]
          },
          "metadata": {},
          "execution_count": 53
        }
      ]
    },
    {
      "cell_type": "code",
      "source": [
        "a1 ** 2"
      ],
      "metadata": {
        "colab": {
          "base_uri": "https://localhost:8080/"
        },
        "id": "Irgwjr9O1gIs",
        "outputId": "0e726ada-9de2-4c94-f78e-6b4840e09991"
      },
      "execution_count": 54,
      "outputs": [
        {
          "output_type": "execute_result",
          "data": {
            "text/plain": [
              "array([[  0,   1,   4,   9],\n",
              "       [ 16,  25,  36,  49],\n",
              "       [ 64,  81, 100, 121]])"
            ]
          },
          "metadata": {},
          "execution_count": 54
        }
      ]
    },
    {
      "cell_type": "code",
      "source": [
        "#relational\n",
        "#any relational operator (>= , <=, == etc)\n",
        "a1>5\n",
        "#check every element element is greater than 5 or not\n",
        "print(a1>5)"
      ],
      "metadata": {
        "colab": {
          "base_uri": "https://localhost:8080/"
        },
        "id": "PDBMTAAK1l_c",
        "outputId": "f7fb1374-ae29-41bb-a3b4-4794e47bb274"
      },
      "execution_count": 58,
      "outputs": [
        {
          "output_type": "stream",
          "name": "stdout",
          "text": [
            "[[False False False False]\n",
            " [False False  True  True]\n",
            " [ True  True  True  True]]\n"
          ]
        }
      ]
    },
    {
      "cell_type": "code",
      "source": [
        "#vector operations\n",
        "#arithmatic, or any o\n",
        "a1 + a2"
      ],
      "metadata": {
        "colab": {
          "base_uri": "https://localhost:8080/"
        },
        "id": "fMXGZdSE2JPe",
        "outputId": "eef23276-b165-4ac6-fcc8-cf0eca7fb287"
      },
      "execution_count": 59,
      "outputs": [
        {
          "output_type": "execute_result",
          "data": {
            "text/plain": [
              "array([[12, 14, 16, 18],\n",
              "       [20, 22, 24, 26],\n",
              "       [28, 30, 32, 34]])"
            ]
          },
          "metadata": {},
          "execution_count": 59
        }
      ]
    },
    {
      "cell_type": "markdown",
      "source": [
        "#array functions\n"
      ],
      "metadata": {
        "id": "hO4hXBSD2z7b"
      }
    },
    {
      "cell_type": "code",
      "source": [
        "a1= np.random.random((3,3))\n",
        "\n",
        "\n",
        "\n",
        "# for np.round we create random number  for 0 to 1\n"
      ],
      "metadata": {
        "colab": {
          "base_uri": "https://localhost:8080/"
        },
        "id": "3KzPGy0N22Y8",
        "outputId": "97db933c-b4f1-4925-bbb6-f1f7c516e920"
      },
      "execution_count": 62,
      "outputs": [
        {
          "output_type": "execute_result",
          "data": {
            "text/plain": [
              "array([[155., 150., 132.],\n",
              "       [175.,  57., 158.],\n",
              "       [110.,  56., 141.]])"
            ]
          },
          "metadata": {},
          "execution_count": 62
        }
      ]
    },
    {
      "cell_type": "code",
      "source": [
        "#max/ min/ sum /prod\n",
        "\n",
        "np.max (a1) # max element from a1\n",
        "\n",
        "np.prod(a1)# multiplication of all element\n",
        "\n",
        "\n",
        "\n",
        "\n",
        "\n"
      ],
      "metadata": {
        "colab": {
          "base_uri": "https://localhost:8080/"
        },
        "id": "J9D3uHYH362V",
        "outputId": "9ea21b26-6bfe-44b4-ccf1-fd7f223ae70c"
      },
      "execution_count": 63,
      "outputs": [
        {
          "output_type": "execute_result",
          "data": {
            "text/plain": [
              "4.201135649172e+18"
            ]
          },
          "metadata": {},
          "execution_count": 63
        }
      ]
    },
    {
      "cell_type": "code",
      "source": [
        "print(a1)\n",
        "print()\n",
        "np.max(a1, axis = 0) # we get max from each column ---> row -> axis =0"
      ],
      "metadata": {
        "colab": {
          "base_uri": "https://localhost:8080/"
        },
        "id": "CO3WdBl84mgj",
        "outputId": "e62fe1f3-7f58-40db-893b-e76bf4434805"
      },
      "execution_count": 66,
      "outputs": [
        {
          "output_type": "stream",
          "name": "stdout",
          "text": [
            "[[155. 150. 132.]\n",
            " [175.  57. 158.]\n",
            " [110.  56. 141.]]\n",
            "\n"
          ]
        },
        {
          "output_type": "execute_result",
          "data": {
            "text/plain": [
              "array([175., 150., 158.])"
            ]
          },
          "metadata": {},
          "execution_count": 66
        }
      ]
    },
    {
      "cell_type": "code",
      "source": [
        "print(a1)\n",
        "print()\n",
        "\n",
        "np.max(a1, axis = 1) # we get max from each row --> row -> axis=1"
      ],
      "metadata": {
        "colab": {
          "base_uri": "https://localhost:8080/"
        },
        "id": "d06B4MsG4plb",
        "outputId": "c0df5351-2a5c-4ceb-e2fd-913e56f897be"
      },
      "execution_count": 67,
      "outputs": [
        {
          "output_type": "stream",
          "name": "stdout",
          "text": [
            "[[155. 150. 132.]\n",
            " [175.  57. 158.]\n",
            " [110.  56. 141.]]\n",
            "\n"
          ]
        },
        {
          "output_type": "execute_result",
          "data": {
            "text/plain": [
              "array([155., 175., 141.])"
            ]
          },
          "metadata": {},
          "execution_count": 67
        }
      ]
    },
    {
      "cell_type": "code",
      "source": [
        "#mean /median /std /var\n",
        "np.mean(a1) # mean of whole a1 matrix\n"
      ],
      "metadata": {
        "colab": {
          "base_uri": "https://localhost:8080/"
        },
        "id": "lqAHOboT5K7b",
        "outputId": "2318ef77-ff50-476f-8679-623d0928ca53"
      },
      "execution_count": 68,
      "outputs": [
        {
          "output_type": "execute_result",
          "data": {
            "text/plain": [
              "126.0"
            ]
          },
          "metadata": {},
          "execution_count": 68
        }
      ]
    },
    {
      "cell_type": "code",
      "source": [
        "#trigonmetric fuction\n",
        "\n",
        "np.sin(a1)"
      ],
      "metadata": {
        "colab": {
          "base_uri": "https://localhost:8080/"
        },
        "id": "-xrjDpTa5bkF",
        "outputId": "acb3db3c-2f83-4b2b-bbb5-b21d107bae70"
      },
      "execution_count": 69,
      "outputs": [
        {
          "output_type": "execute_result",
          "data": {
            "text/plain": [
              "array([[-0.87331198, -0.71487643,  0.05308359],\n",
              "       [-0.8011346 ,  0.43616476,  0.7958241 ],\n",
              "       [-0.04424268, -0.521551  ,  0.36317137]])"
            ]
          },
          "metadata": {},
          "execution_count": 69
        }
      ]
    },
    {
      "cell_type": "code",
      "source": [
        "# dot product\n",
        "\n",
        "# matrix multiplication means dot product\n",
        "\n",
        "\n",
        "a1 = np.arange(12).reshape(3,4)\n",
        "a3 = np.arange(12,24).reshape(4,3)\n",
        "np.dot(a2,a3)"
      ],
      "metadata": {
        "colab": {
          "base_uri": "https://localhost:8080/"
        },
        "id": "fl1ShIX65k6w",
        "outputId": "7dcdba11-7b67-4b06-9e6c-e1bff9a72467"
      },
      "execution_count": 70,
      "outputs": [
        {
          "output_type": "execute_result",
          "data": {
            "text/plain": [
              "array([[ 906,  960, 1014],\n",
              "       [1170, 1240, 1310],\n",
              "       [1434, 1520, 1606]])"
            ]
          },
          "metadata": {},
          "execution_count": 70
        }
      ]
    },
    {
      "cell_type": "code",
      "source": [
        "#log and exponents\n",
        "\n",
        "np.exp(a1)\n",
        "\n",
        "np.log(a1)"
      ],
      "metadata": {
        "id": "lWBjetb16Ptp"
      },
      "execution_count": null,
      "outputs": []
    },
    {
      "cell_type": "code",
      "source": [
        "#round / floor / ceil\n",
        "a1 = np.random.random((3,3))*100\n",
        "print(a1)\n",
        "np.round(a1)\n",
        "# round to nearest integare\n"
      ],
      "metadata": {
        "colab": {
          "base_uri": "https://localhost:8080/"
        },
        "id": "nbaHQBLY6gCQ",
        "outputId": "5dc9a7da-fee1-4e4c-9468-d94e4633a0c7"
      },
      "execution_count": 72,
      "outputs": [
        {
          "output_type": "stream",
          "name": "stdout",
          "text": [
            "[[46.84100112 69.05120322 29.14339749]\n",
            " [20.91590559 28.95410133 40.262879  ]\n",
            " [37.92832262 80.75408307 37.84718191]]\n"
          ]
        },
        {
          "output_type": "execute_result",
          "data": {
            "text/plain": [
              "array([[47., 69., 29.],\n",
              "       [21., 29., 40.],\n",
              "       [38., 81., 38.]])"
            ]
          },
          "metadata": {},
          "execution_count": 72
        }
      ]
    },
    {
      "cell_type": "code",
      "source": [
        "np.floor (a1)  # floor value\n",
        "np.ceil(a1)"
      ],
      "metadata": {
        "id": "a33Vb2GQ7Uc2"
      },
      "execution_count": null,
      "outputs": []
    },
    {
      "cell_type": "markdown",
      "source": [
        "#indexing and slicing"
      ],
      "metadata": {
        "id": "pj2_6E-H7n3m"
      }
    },
    {
      "cell_type": "code",
      "source": [
        "a1=np.arange(10)\n",
        "a2 = np.arange(12).reshape(3,4)\n",
        "a3= np.arange(8).reshape(2,2,2)\n",
        "a1"
      ],
      "metadata": {
        "colab": {
          "base_uri": "https://localhost:8080/"
        },
        "id": "xFoEsBOy7qK6",
        "outputId": "e14741ec-39f5-4753-ed6a-d4b1d29a1795"
      },
      "execution_count": 76,
      "outputs": [
        {
          "output_type": "execute_result",
          "data": {
            "text/plain": [
              "array([0, 1, 2, 3, 4, 5, 6, 7, 8, 9])"
            ]
          },
          "metadata": {},
          "execution_count": 76
        }
      ]
    },
    {
      "cell_type": "code",
      "source": [
        "#postiive indexing\n",
        "a1[0]\n",
        "#negative indexing\n",
        "a1[-1]"
      ],
      "metadata": {
        "colab": {
          "base_uri": "https://localhost:8080/"
        },
        "id": "psjcHsfc-oOo",
        "outputId": "af40a124-494e-4efe-93c5-ef2e7d92ccf9"
      },
      "execution_count": 77,
      "outputs": [
        {
          "output_type": "execute_result",
          "data": {
            "text/plain": [
              "0"
            ]
          },
          "metadata": {},
          "execution_count": 77
        }
      ]
    },
    {
      "cell_type": "code",
      "source": [
        "a2"
      ],
      "metadata": {
        "colab": {
          "base_uri": "https://localhost:8080/"
        },
        "id": "85kuBGa7-yyx",
        "outputId": "f2260b11-acd4-4ee2-aed4-aaadbe4d8fd1"
      },
      "execution_count": 78,
      "outputs": [
        {
          "output_type": "execute_result",
          "data": {
            "text/plain": [
              "array([[ 0,  1,  2,  3],\n",
              "       [ 4,  5,  6,  7],\n",
              "       [ 8,  9, 10, 11]])"
            ]
          },
          "metadata": {},
          "execution_count": 78
        }
      ]
    },
    {
      "cell_type": "code",
      "source": [
        "a2[1,2]  # a2[row,col]"
      ],
      "metadata": {
        "colab": {
          "base_uri": "https://localhost:8080/"
        },
        "id": "qedw_TFc-3KP",
        "outputId": "bb54abae-35b0-4ccc-d2c4-4e6d2e0c6473"
      },
      "execution_count": 79,
      "outputs": [
        {
          "output_type": "execute_result",
          "data": {
            "text/plain": [
              "6"
            ]
          },
          "metadata": {},
          "execution_count": 79
        }
      ]
    },
    {
      "cell_type": "code",
      "source": [
        "a3"
      ],
      "metadata": {
        "colab": {
          "base_uri": "https://localhost:8080/"
        },
        "id": "3I5wZlKZ_Lbp",
        "outputId": "86190ff7-3ca7-41f8-f41d-ea393b4faf01"
      },
      "execution_count": 80,
      "outputs": [
        {
          "output_type": "execute_result",
          "data": {
            "text/plain": [
              "array([[[0, 1],\n",
              "        [2, 3]],\n",
              "\n",
              "       [[4, 5],\n",
              "        [6, 7]]])"
            ]
          },
          "metadata": {},
          "execution_count": 80
        }
      ]
    },
    {
      "cell_type": "code",
      "source": [
        "# we have to get 3\n",
        "a3[0,1,1]\n",
        "\n",
        "\n",
        "#first index means which 2d matrix where it is 0'th\n",
        "# 2nd index means which which 1D matrix where it is 1'th\n",
        "# 3rd index means which element here it is 1 th\n"
      ],
      "metadata": {
        "colab": {
          "base_uri": "https://localhost:8080/"
        },
        "id": "aQFLIuce_PPH",
        "outputId": "5151f5d5-4813-4511-bb21-5b13aa4b76d8"
      },
      "execution_count": 82,
      "outputs": [
        {
          "output_type": "execute_result",
          "data": {
            "text/plain": [
              "3"
            ]
          },
          "metadata": {},
          "execution_count": 82
        }
      ]
    },
    {
      "cell_type": "code",
      "source": [
        "#slicing\n",
        "print(a1)\n",
        "\n",
        "a1[2:5]\n",
        "\n",
        "\n",
        "#every same as list"
      ],
      "metadata": {
        "colab": {
          "base_uri": "https://localhost:8080/"
        },
        "id": "3kGp0hSS_4rJ",
        "outputId": "2d632087-70ed-4aea-9e48-925dd55966c6"
      },
      "execution_count": 83,
      "outputs": [
        {
          "output_type": "stream",
          "name": "stdout",
          "text": [
            "[0 1 2 3 4 5 6 7 8 9]\n"
          ]
        },
        {
          "output_type": "execute_result",
          "data": {
            "text/plain": [
              "array([2, 3, 4])"
            ]
          },
          "metadata": {},
          "execution_count": 83
        }
      ]
    },
    {
      "cell_type": "code",
      "source": [
        "print(a2)\n",
        "\n",
        "\n",
        "print()\n",
        "#suppose i want 0th row\n",
        "print(a2[0,:])\n",
        "\n",
        "print()\n",
        "\n",
        "#suppose i want 0 th row 1th colum to 2th column\n",
        "\n",
        "print(a2[0,1:3])\n",
        "\n",
        "print()\n",
        "\n",
        "\n",
        "#suppose i want 1 th column , oth row to 1 th row\n",
        "\n",
        "\n",
        "print(a2[   0:2  ,  1 ])\n",
        "\n",
        "print()\n",
        "\n",
        "\n",
        "# [[5 6], [9 ,10]] we want to extract this portion\n",
        "\n",
        "\n",
        "print(a2[  1:  , 1:3])\n"
      ],
      "metadata": {
        "colab": {
          "base_uri": "https://localhost:8080/"
        },
        "id": "jcSHr3o3ANVz",
        "outputId": "40fe2013-64c1-4d37-bbe9-34f417e9aed1"
      },
      "execution_count": 90,
      "outputs": [
        {
          "output_type": "stream",
          "name": "stdout",
          "text": [
            "[[ 0  1  2  3]\n",
            " [ 4  5  6  7]\n",
            " [ 8  9 10 11]]\n",
            "\n",
            "[0 1 2 3]\n",
            "\n",
            "[1 2]\n",
            "\n",
            "[1 5]\n",
            "\n",
            "[[ 5  6]\n",
            " [ 9 10]]\n"
          ]
        }
      ]
    },
    {
      "cell_type": "code",
      "source": [
        "# for row and we want alternate value\n",
        "\n",
        "\n",
        "print(a2[ : : 2 , : : 2]) # these 2 means skipping 1 value"
      ],
      "metadata": {
        "colab": {
          "base_uri": "https://localhost:8080/"
        },
        "id": "HnLqmLrTCO9t",
        "outputId": "9ab759a2-2520-4ef7-f4e8-482f9237acb5"
      },
      "execution_count": 91,
      "outputs": [
        {
          "output_type": "stream",
          "name": "stdout",
          "text": [
            "[[ 0  2]\n",
            " [ 8 10]]\n"
          ]
        }
      ]
    },
    {
      "cell_type": "code",
      "source": [
        "# for 3 D arrray\n",
        "\n",
        "\n",
        "a3 = np.arange(27).reshape(3,3,3)\n",
        "\n",
        "print(a3)\n",
        "\n",
        "print()\n",
        "\n",
        "print(\"2nd 2D matrix\")\n",
        "\n",
        "print(a3[1])\n",
        "\n",
        "print()\n",
        "\n",
        "print(a3[1,0:2,1:])\n",
        "\n",
        "\n",
        "\n",
        "print()\n",
        "print(a3[::2, ::2, :: 2 ])\n"
      ],
      "metadata": {
        "colab": {
          "base_uri": "https://localhost:8080/"
        },
        "id": "Y2guEzxkDHML",
        "outputId": "acae5a93-c573-40be-d714-5a32996617f2"
      },
      "execution_count": 101,
      "outputs": [
        {
          "output_type": "stream",
          "name": "stdout",
          "text": [
            "[[[ 0  1  2]\n",
            "  [ 3  4  5]\n",
            "  [ 6  7  8]]\n",
            "\n",
            " [[ 9 10 11]\n",
            "  [12 13 14]\n",
            "  [15 16 17]]\n",
            "\n",
            " [[18 19 20]\n",
            "  [21 22 23]\n",
            "  [24 25 26]]]\n",
            "\n",
            "2nd 2D matrix\n",
            "[[ 9 10 11]\n",
            " [12 13 14]\n",
            " [15 16 17]]\n",
            "\n",
            "[[10 11]\n",
            " [13 14]]\n",
            "\n",
            "[[[ 0  2]\n",
            "  [ 6  8]]\n",
            "\n",
            " [[18 20]\n",
            "  [24 26]]]\n"
          ]
        }
      ]
    },
    {
      "cell_type": "markdown",
      "source": [
        "#Iterating"
      ],
      "metadata": {
        "id": "n7dc-SrAGBQl"
      }
    },
    {
      "cell_type": "code",
      "source": [
        "print(a1)\n",
        "\n",
        "for i in a1:\n",
        "  print (i,end=\" \")"
      ],
      "metadata": {
        "colab": {
          "base_uri": "https://localhost:8080/"
        },
        "id": "L4OCGMxTGC8S",
        "outputId": "eadbd549-c7f2-4ead-9cc6-dac571159c14"
      },
      "execution_count": 102,
      "outputs": [
        {
          "output_type": "stream",
          "name": "stdout",
          "text": [
            "[0 1 2 3 4 5 6 7 8 9]\n",
            "0 1 2 3 4 5 6 7 8 9 "
          ]
        }
      ]
    },
    {
      "cell_type": "code",
      "source": [
        "print(a2)\n",
        "\n",
        "for i in a2:\n",
        "  for j in i:\n",
        "    print(j, end = \" \")\n",
        "  print()"
      ],
      "metadata": {
        "colab": {
          "base_uri": "https://localhost:8080/"
        },
        "id": "l1YBy09hGYvu",
        "outputId": "e8c4f42e-b96e-479c-f221-0cdd432dbfcc"
      },
      "execution_count": 105,
      "outputs": [
        {
          "output_type": "stream",
          "name": "stdout",
          "text": [
            "[[ 0  1  2  3]\n",
            " [ 4  5  6  7]\n",
            " [ 8  9 10 11]]\n",
            "0 1 2 3 \n",
            "4 5 6 7 \n",
            "8 9 10 11 \n"
          ]
        }
      ]
    },
    {
      "cell_type": "code",
      "source": [
        "# most important to access any dimentional array every element\n",
        "for i in np.nditer(a3):\n",
        "  print(i, end = \" \")"
      ],
      "metadata": {
        "colab": {
          "base_uri": "https://localhost:8080/"
        },
        "id": "NFIqov4BG_SY",
        "outputId": "2347e86c-1770-4724-c8fb-8110c47364d8"
      },
      "execution_count": 107,
      "outputs": [
        {
          "output_type": "stream",
          "name": "stdout",
          "text": [
            "0 1 2 3 4 5 6 7 8 9 10 11 12 13 14 15 16 17 18 19 20 21 22 23 24 25 26 "
          ]
        }
      ]
    },
    {
      "cell_type": "markdown",
      "source": [
        "#Reshaping"
      ],
      "metadata": {
        "id": "HJz-9swGHa4x"
      }
    },
    {
      "cell_type": "code",
      "source": [
        "#transpose\n",
        "print(a2)\n",
        "# np.transpose(a2)\n",
        "\n",
        "# another way\n",
        "\n",
        "a2.T"
      ],
      "metadata": {
        "colab": {
          "base_uri": "https://localhost:8080/"
        },
        "id": "wCbv3EcqHd6k",
        "outputId": "95ca8218-ce39-42a8-85c2-6346e998dd5d"
      },
      "execution_count": 109,
      "outputs": [
        {
          "output_type": "stream",
          "name": "stdout",
          "text": [
            "[[ 0  1  2  3]\n",
            " [ 4  5  6  7]\n",
            " [ 8  9 10 11]]\n"
          ]
        },
        {
          "output_type": "execute_result",
          "data": {
            "text/plain": [
              "array([[ 0,  4,  8],\n",
              "       [ 1,  5,  9],\n",
              "       [ 2,  6, 10],\n",
              "       [ 3,  7, 11]])"
            ]
          },
          "metadata": {},
          "execution_count": 109
        }
      ]
    },
    {
      "cell_type": "code",
      "source": [
        "# ravel\n",
        "# convert any dimentional array to 1D array\n",
        "print(a2)\n",
        "\n",
        "a2.ravel()\n"
      ],
      "metadata": {
        "colab": {
          "base_uri": "https://localhost:8080/"
        },
        "id": "MJYRXkNOHxCx",
        "outputId": "aa6ecbac-151d-4fca-8041-da6a99a95426"
      },
      "execution_count": 111,
      "outputs": [
        {
          "output_type": "stream",
          "name": "stdout",
          "text": [
            "[[ 0  1  2  3]\n",
            " [ 4  5  6  7]\n",
            " [ 8  9 10 11]]\n"
          ]
        },
        {
          "output_type": "execute_result",
          "data": {
            "text/plain": [
              "array([ 0,  1,  2,  3,  4,  5,  6,  7,  8,  9, 10, 11])"
            ]
          },
          "metadata": {},
          "execution_count": 111
        }
      ]
    },
    {
      "cell_type": "markdown",
      "source": [
        "#stacking\n"
      ],
      "metadata": {
        "id": "1LSuwuVOIQIc"
      }
    },
    {
      "cell_type": "code",
      "source": [
        "# horizontal\n",
        "a1 = np.arange(4).reshape(2,2)\n",
        "a2 = np.arange(6,10).reshape(2,2)\n",
        "\n",
        "print(a1)\n",
        "print()\n",
        "\n",
        "\n",
        "print(a2)\n",
        "print()\n",
        "\n",
        "print(\"horizonal\")\n",
        "print(np.hstack((a1,a2)))\n",
        "\n",
        "\n",
        "print(\" vertical\")\n",
        "\n",
        "\n",
        "\n",
        "# vertical\n",
        "\n",
        "np.vstack((a1,a2))\n",
        "\n",
        "\n"
      ],
      "metadata": {
        "colab": {
          "base_uri": "https://localhost:8080/"
        },
        "id": "89t25qGYIWjV",
        "outputId": "a874727e-c050-4f5e-9720-98789b77b54d"
      },
      "execution_count": 116,
      "outputs": [
        {
          "output_type": "stream",
          "name": "stdout",
          "text": [
            "[[0 1]\n",
            " [2 3]]\n",
            "\n",
            "[[6 7]\n",
            " [8 9]]\n",
            "\n",
            "horizonal\n",
            "[[0 1 6 7]\n",
            " [2 3 8 9]]\n",
            " vertical\n"
          ]
        },
        {
          "output_type": "execute_result",
          "data": {
            "text/plain": [
              "array([[0, 1],\n",
              "       [2, 3],\n",
              "       [6, 7],\n",
              "       [8, 9]])"
            ]
          },
          "metadata": {},
          "execution_count": 116
        }
      ]
    },
    {
      "cell_type": "markdown",
      "source": [
        "#spliting"
      ],
      "metadata": {
        "id": "gfRNs24CJV3b"
      }
    },
    {
      "cell_type": "code",
      "source": [
        "#horizonal split\n",
        "np.hsplit(a2,2)  # hspit(which matrix, how many partition)"
      ],
      "metadata": {
        "colab": {
          "base_uri": "https://localhost:8080/"
        },
        "id": "U7gTKKW6Jdyq",
        "outputId": "1d1ea6a3-fd24-4dae-debd-077c4b59563d"
      },
      "execution_count": 117,
      "outputs": [
        {
          "output_type": "execute_result",
          "data": {
            "text/plain": [
              "[array([[6],\n",
              "        [8]]),\n",
              " array([[7],\n",
              "        [9]])]"
            ]
          },
          "metadata": {},
          "execution_count": 117
        }
      ]
    },
    {
      "cell_type": "code",
      "source": [
        "# vertical split\n",
        "\n",
        "np.vsplit(a2,2)"
      ],
      "metadata": {
        "colab": {
          "base_uri": "https://localhost:8080/"
        },
        "id": "Oc69OOF2JcWh",
        "outputId": "75e6944d-c7af-423a-f205-9c55fa548906"
      },
      "execution_count": 118,
      "outputs": [
        {
          "output_type": "execute_result",
          "data": {
            "text/plain": [
              "[array([[6, 7]]), array([[8, 9]])]"
            ]
          },
          "metadata": {},
          "execution_count": 118
        }
      ]
    }
  ]
}