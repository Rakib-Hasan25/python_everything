{
  "nbformat": 4,
  "nbformat_minor": 0,
  "metadata": {
    "colab": {
      "provenance": [],
      "authorship_tag": "ABX9TyMB67TnE1bR5KxaPhjgpVsa",
      "include_colab_link": true
    },
    "kernelspec": {
      "name": "python3",
      "display_name": "Python 3"
    },
    "language_info": {
      "name": "python"
    }
  },
  "cells": [
    {
      "cell_type": "markdown",
      "metadata": {
        "id": "view-in-github",
        "colab_type": "text"
      },
      "source": [
        "<a href=\"https://colab.research.google.com/github/Rakib-Hasan25/python_everything/blob/main/Everything_about_Strings.ipynb\" target=\"_parent\"><img src=\"https://colab.research.google.com/assets/colab-badge.svg\" alt=\"Open In Colab\"/></a>"
      ]
    },
    {
      "cell_type": "markdown",
      "source": [
        "#1.Creating String"
      ],
      "metadata": {
        "id": "GJAliKNk188W"
      }
    },
    {
      "cell_type": "code",
      "execution_count": null,
      "metadata": {
        "id": "jZPl7f_B1Ao2"
      },
      "outputs": [],
      "source": [
        "#creating string\n",
        "s = 'hello'\n",
        "w = \"hello\"\n",
        "p = '''hello'''\n",
        "\n",
        "# f ='it's a raining day' #error\n",
        "t = \"it's a raining day\"\n",
        "\n",
        "s = str('hello')\n",
        "\n",
        "\n",
        "\n"
      ]
    },
    {
      "cell_type": "markdown",
      "source": [
        "#2.accessing substring"
      ],
      "metadata": {
        "id": "gfigwQ7w10u9"
      }
    },
    {
      "cell_type": "code",
      "source": [
        "#positive indexing\n",
        "\n",
        "s = 'hello world'\n",
        "print(s[0])\n",
        "\n",
        "\n",
        "#negative indexing\n",
        "\n",
        "print(s[-1])\n",
        "\n",
        "\n",
        "#slicing\n",
        "\n",
        "\n",
        "print(s[0:5]) # print(0 to 4th index)\n",
        "\n",
        "print(s[1:5:2])# print (0 to 4th index skipping 1 )\n",
        "\n",
        "print(s[2:])# print 2th index to rest\n",
        "\n",
        "\n",
        "print(s[6:0:-1]) # print 6th index to 0\n",
        "\n",
        "\n",
        "\n",
        "print(s[::2]) # print 0 to rest index skipping 1 internally s[0::2]\n",
        "\n",
        "print(s[::-1]) #reverse string\n",
        "\n",
        "\n",
        "\n",
        "print(s[-5:]) # print -5 to upperword means  -1\n",
        "\n",
        "\n",
        "\n",
        "\n",
        "\n",
        "\n"
      ],
      "metadata": {
        "colab": {
          "base_uri": "https://localhost:8080/"
        },
        "id": "9MFFbR6I2HPG",
        "outputId": "7eecc589-db00-4040-9c5c-82a2b1cb8f66"
      },
      "execution_count": 4,
      "outputs": [
        {
          "output_type": "stream",
          "name": "stdout",
          "text": [
            "h\n",
            "d\n",
            "hello\n",
            "el\n",
            "llo world\n",
            "w olle\n",
            "hlowrd\n",
            "dlrow olleh\n"
          ]
        }
      ]
    },
    {
      "cell_type": "markdown",
      "source": [
        "#3.Editing and Deleting"
      ],
      "metadata": {
        "id": "oGp0PyXt4U6r"
      }
    },
    {
      "cell_type": "code",
      "source": [
        "# python string are immutable\n",
        "# that we can't change or delete it\n",
        "\n",
        "s= \"rakib hasan\"\n",
        "#s[0]=\"R\" # not possible"
      ],
      "metadata": {
        "id": "FBsLLZQe4Yk7"
      },
      "execution_count": null,
      "outputs": []
    },
    {
      "cell_type": "code",
      "source": [
        "#we can delete the whole string\n",
        "s = \"helloworld\"\n",
        "print(s)\n",
        "del s\n",
        "#print(s)"
      ],
      "metadata": {
        "colab": {
          "base_uri": "https://localhost:8080/"
        },
        "id": "9xWPYYzn4xgR",
        "outputId": "654b03fb-8b3f-41d4-9e4c-25273b3a5cde"
      },
      "execution_count": 7,
      "outputs": [
        {
          "output_type": "stream",
          "name": "stdout",
          "text": [
            "helloworld\n"
          ]
        }
      ]
    },
    {
      "cell_type": "code",
      "source": [
        "#we can't delete any perticular string in python\n",
        "# del s[-1] # not possible"
      ],
      "metadata": {
        "id": "b82vOGHn5EBz"
      },
      "execution_count": null,
      "outputs": []
    },
    {
      "cell_type": "markdown",
      "source": [
        "#4.operation in string\n",
        "\n",
        "##*Arithmatic\n",
        "##*Relational\n",
        "##*Logical\n",
        "##*Loops on string\n",
        "##* Membership\n",
        "\n"
      ],
      "metadata": {
        "id": "ibQAMg7o5Sj6"
      }
    },
    {
      "cell_type": "code",
      "source": [
        "#aritmatic\n",
        "print(\"rakib\"+\"hasan\")\n",
        "\n",
        "print(\"rakib\"*5)\n",
        "\n"
      ],
      "metadata": {
        "id": "6COEIVLe5xoz"
      },
      "execution_count": null,
      "outputs": []
    },
    {
      "cell_type": "code",
      "source": [
        "#Relational\n",
        "print('rakib'=='rakib')\n",
        "print('rakib'!='hasan')\n",
        "print('chittagong'> 'dhaka')\n"
      ],
      "metadata": {
        "id": "bO8aZSjZ5-mx"
      },
      "execution_count": null,
      "outputs": []
    },
    {
      "cell_type": "code",
      "source": [
        "#logical\n",
        "# an empty string represent false\n",
        "# an full string reprent true\n",
        "\n",
        "'hello' and 'world' # first check 'hello' that means true and then check 'world' so it give true for 'world\n"
      ],
      "metadata": {
        "colab": {
          "base_uri": "https://localhost:8080/",
          "height": 35
        },
        "id": "FFNS6aAx6ayR",
        "outputId": "9f1788c7-d646-4aed-e83d-873471e5fecf"
      },
      "execution_count": 8,
      "outputs": [
        {
          "output_type": "execute_result",
          "data": {
            "text/plain": [
              "'world'"
            ],
            "application/vnd.google.colaboratory.intrinsic+json": {
              "type": "string"
            }
          },
          "metadata": {},
          "execution_count": 8
        }
      ]
    },
    {
      "cell_type": "code",
      "source": [
        "'hello' or 'world'"
      ],
      "metadata": {
        "colab": {
          "base_uri": "https://localhost:8080/",
          "height": 35
        },
        "id": "AqlkdsG46--t",
        "outputId": "121b82d3-111d-4158-abc3-1c7025aa596a"
      },
      "execution_count": 9,
      "outputs": [
        {
          "output_type": "execute_result",
          "data": {
            "text/plain": [
              "'hello'"
            ],
            "application/vnd.google.colaboratory.intrinsic+json": {
              "type": "string"
            }
          },
          "metadata": {},
          "execution_count": 9
        }
      ]
    },
    {
      "cell_type": "code",
      "source": [
        "''and 'world'"
      ],
      "metadata": {
        "colab": {
          "base_uri": "https://localhost:8080/",
          "height": 35
        },
        "id": "B30eAd447FYi",
        "outputId": "d8507378-6c11-4e37-8651-28060b0ce51d"
      },
      "execution_count": 10,
      "outputs": [
        {
          "output_type": "execute_result",
          "data": {
            "text/plain": [
              "''"
            ],
            "application/vnd.google.colaboratory.intrinsic+json": {
              "type": "string"
            }
          },
          "metadata": {},
          "execution_count": 10
        }
      ]
    },
    {
      "cell_type": "code",
      "source": [
        "''or 'world'"
      ],
      "metadata": {
        "colab": {
          "base_uri": "https://localhost:8080/",
          "height": 35
        },
        "id": "Dlg-H_OU7LXZ",
        "outputId": "4e54ccc7-451c-473f-bec7-93d47bac2970"
      },
      "execution_count": 12,
      "outputs": [
        {
          "output_type": "execute_result",
          "data": {
            "text/plain": [
              "'world'"
            ],
            "application/vnd.google.colaboratory.intrinsic+json": {
              "type": "string"
            }
          },
          "metadata": {},
          "execution_count": 12
        }
      ]
    },
    {
      "cell_type": "code",
      "source": [
        "#loops in string\n",
        "\n",
        "for i in 'rakib':\n",
        "  print(i,end=\" \")\n",
        "\n",
        "print()\n",
        "\n",
        "\n",
        "s =\"rakib\"\n",
        "for i in s:\n",
        "  print(i,end=\" \")\n",
        "\n",
        "print()\n",
        "\n",
        "\n",
        "for i in range(0,len(s)):\n",
        "  print(s[i], end=\" \")"
      ],
      "metadata": {
        "colab": {
          "base_uri": "https://localhost:8080/"
        },
        "id": "b51ZIaE975da",
        "outputId": "3e3d7af6-c676-417c-e044-0260e47f794d"
      },
      "execution_count": 21,
      "outputs": [
        {
          "output_type": "stream",
          "name": "stdout",
          "text": [
            "r a k i b \n",
            "r a k i b \n",
            "r a k i b "
          ]
        }
      ]
    },
    {
      "cell_type": "code",
      "source": [
        "#membership\n",
        "print('Ii' in 'rakib')"
      ],
      "metadata": {
        "colab": {
          "base_uri": "https://localhost:8080/"
        },
        "id": "0NDT8ApK8yRm",
        "outputId": "4b265450-2481-48e4-8962-051f0e7dc997"
      },
      "execution_count": 23,
      "outputs": [
        {
          "output_type": "stream",
          "name": "stdout",
          "text": [
            "False\n"
          ]
        }
      ]
    },
    {
      "cell_type": "markdown",
      "source": [
        "#5. common function\n",
        "\n",
        "### len\n",
        "### max\n",
        "### min\n",
        "### sorted\n",
        "\n"
      ],
      "metadata": {
        "id": "Lc-Dg5B_7S8M"
      }
    },
    {
      "cell_type": "code",
      "source": [
        "\n",
        "\n",
        "a= 'rakib'\n",
        "print(a)\n",
        "print(len(a))\n",
        "print(max(a))\n",
        "print(min(a))\n",
        "print(sorted(a))\n",
        "\n",
        "\n"
      ],
      "metadata": {
        "colab": {
          "base_uri": "https://localhost:8080/"
        },
        "id": "s5FzztQ37qVS",
        "outputId": "1ed17e49-ae42-45de-e5ef-a8b0b1d291c6"
      },
      "execution_count": 27,
      "outputs": [
        {
          "output_type": "stream",
          "name": "stdout",
          "text": [
            "rakib\n",
            "5\n",
            "r\n",
            "a\n",
            "['a', 'b', 'i', 'k', 'r']\n"
          ]
        }
      ]
    },
    {
      "cell_type": "code",
      "source": [
        "\n",
        "s = 'hello world'\n",
        "s.capitalize() #make first character of a whole string upper case\n",
        "s.title() # make every separated word uppercase\n",
        "s.upper() # make whole string uppercase\n",
        "s.lower() # make whole string lowercase\n"
      ],
      "metadata": {
        "colab": {
          "base_uri": "https://localhost:8080/",
          "height": 35
        },
        "id": "fA_ACs1u7yvw",
        "outputId": "a1e14f27-3d65-46cf-c57b-129299dba0e7"
      },
      "execution_count": 31,
      "outputs": [
        {
          "output_type": "execute_result",
          "data": {
            "text/plain": [
              "'HELLO WORLD'"
            ],
            "application/vnd.google.colaboratory.intrinsic+json": {
              "type": "string"
            }
          },
          "metadata": {},
          "execution_count": 31
        }
      ]
    },
    {
      "cell_type": "markdown",
      "source": [
        "#Count, find ,index"
      ],
      "metadata": {
        "id": "1x3_x3ZU-dZD"
      }
    },
    {
      "cell_type": "code",
      "source": [
        "'my name is rakib'.count('i') # count all the i\n",
        "\n",
        "'my name is rakib'.find('is') # return the first index where it find 'is'\n",
        "'my name is rakib'.find('x') # if no matching it return -1\n",
        "\n",
        "'my name is rakib'.index('is')# return the first index where it find 'is'\n",
        "'my name is rakib'.index('x')# it will return an error and it is the difference between find and index\n",
        "\n",
        "\n",
        "\n",
        "\n",
        "\n"
      ],
      "metadata": {
        "colab": {
          "base_uri": "https://localhost:8080/"
        },
        "id": "fTBWeRYZ-kVd",
        "outputId": "8c48e602-c74b-4d4d-8b34-192d29f9f4d1"
      },
      "execution_count": 34,
      "outputs": [
        {
          "output_type": "execute_result",
          "data": {
            "text/plain": [
              "8"
            ]
          },
          "metadata": {},
          "execution_count": 34
        }
      ]
    },
    {
      "cell_type": "markdown",
      "source": [
        "#endswith/startswith\n"
      ],
      "metadata": {
        "id": "HADhQv61_fKX"
      }
    },
    {
      "cell_type": "code",
      "source": [
        "#it return true or false\n",
        "\n",
        "a = \"rakib\"\n",
        "a.startswith('ra')\n",
        "\n",
        "a.endswith('ba')"
      ],
      "metadata": {
        "colab": {
          "base_uri": "https://localhost:8080/"
        },
        "id": "9PFd7TGk_lvN",
        "outputId": "836777d3-058b-4560-eaad-1bde603a1bfb"
      },
      "execution_count": 36,
      "outputs": [
        {
          "output_type": "execute_result",
          "data": {
            "text/plain": [
              "False"
            ]
          },
          "metadata": {},
          "execution_count": 36
        }
      ]
    },
    {
      "cell_type": "markdown",
      "source": [
        "#formet\n"
      ],
      "metadata": {
        "id": "bOwCEnSM_4Bv"
      }
    },
    {
      "cell_type": "code",
      "source": [
        "name = 'rakib'\n",
        "gender =\"male\"\n",
        "\n",
        "'hi my name is {} i am a {}'.format(name,gender)\n",
        "\n",
        "\n",
        "a = 'hi my name is {} i am a {}'\n",
        "a.format(name,gender)\n",
        "\n",
        "\n",
        "\n",
        "#a.format(name) giee error\n",
        "\n",
        "a.format(name,gender, \"ff\") # not giving error , give extra argument\n",
        "\n",
        "\n"
      ],
      "metadata": {
        "colab": {
          "base_uri": "https://localhost:8080/",
          "height": 35
        },
        "id": "AtScFgYdAFFJ",
        "outputId": "f7105158-1ff5-4cef-fdd6-ecc82293d452"
      },
      "execution_count": 42,
      "outputs": [
        {
          "output_type": "execute_result",
          "data": {
            "text/plain": [
              "'hi my name is rakib i am a male'"
            ],
            "application/vnd.google.colaboratory.intrinsic+json": {
              "type": "string"
            }
          },
          "metadata": {},
          "execution_count": 42
        }
      ]
    },
    {
      "cell_type": "markdown",
      "source": [
        "#Split and Join"
      ],
      "metadata": {
        "id": "Wj4n4g4GBEDM"
      }
    },
    {
      "cell_type": "code",
      "source": [
        "#split\n",
        "a = \"hi i am rakib\"\n",
        "a.split('i') # split according to this character 'i' and return a list\n"
      ],
      "metadata": {
        "colab": {
          "base_uri": "https://localhost:8080/"
        },
        "id": "CXpQncMcBIHk",
        "outputId": "f524de2d-936d-4232-8339-106ae8bc900a"
      },
      "execution_count": 43,
      "outputs": [
        {
          "output_type": "execute_result",
          "data": {
            "text/plain": [
              "['h', ' ', ' am rak', 'b']"
            ]
          },
          "metadata": {},
          "execution_count": 43
        }
      ]
    },
    {
      "cell_type": "code",
      "source": [
        "#join\n",
        "\" \".join(['hi', 'i', 'am', 'rakib']) # join all array element giving a space and return a string"
      ],
      "metadata": {
        "colab": {
          "base_uri": "https://localhost:8080/",
          "height": 35
        },
        "id": "RtDYSwdWBjCU",
        "outputId": "8ab654e9-fa6a-4380-acfe-d94b6e26c555"
      },
      "execution_count": 44,
      "outputs": [
        {
          "output_type": "execute_result",
          "data": {
            "text/plain": [
              "'hi i am rakib'"
            ],
            "application/vnd.google.colaboratory.intrinsic+json": {
              "type": "string"
            }
          },
          "metadata": {},
          "execution_count": 44
        }
      ]
    },
    {
      "cell_type": "markdown",
      "source": [
        "#Replace"
      ],
      "metadata": {
        "id": "nJP8z2gbCV5_"
      }
    },
    {
      "cell_type": "code",
      "source": [
        "original_string = \"I like apples, apples are tasty.\"\n",
        "new_string = original_string.replace(\"apples\", \"bananas\")\n",
        "print(new_string)"
      ],
      "metadata": {
        "colab": {
          "base_uri": "https://localhost:8080/"
        },
        "id": "XOMdkSCOCYZE",
        "outputId": "988e63d9-426c-4fb0-9974-9017f72dfffb"
      },
      "execution_count": 45,
      "outputs": [
        {
          "output_type": "stream",
          "name": "stdout",
          "text": [
            "I like bananas, bananas are tasty.\n"
          ]
        }
      ]
    },
    {
      "cell_type": "markdown",
      "source": [
        "#strip\n"
      ],
      "metadata": {
        "id": "7aGCIzloCnaq"
      }
    },
    {
      "cell_type": "code",
      "source": [
        "'nitish                '.strip()"
      ],
      "metadata": {
        "colab": {
          "base_uri": "https://localhost:8080/",
          "height": 35
        },
        "id": "aWf_tsjPCpMv",
        "outputId": "ce4dd4b8-2cf9-488b-a42d-76e9ad1a63a0"
      },
      "execution_count": 46,
      "outputs": [
        {
          "output_type": "execute_result",
          "data": {
            "text/plain": [
              "'nitish'"
            ],
            "application/vnd.google.colaboratory.intrinsic+json": {
              "type": "string"
            }
          },
          "metadata": {},
          "execution_count": 46
        }
      ]
    }
  ]
}